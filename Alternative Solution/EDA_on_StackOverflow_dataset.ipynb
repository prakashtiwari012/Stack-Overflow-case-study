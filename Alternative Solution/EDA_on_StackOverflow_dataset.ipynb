{
 "cells": [
  {
   "cell_type": "markdown",
   "metadata": {
    "colab_type": "text",
    "id": "gF_25iaz_J0r"
   },
   "source": [
    "#### Importing the libraries"
   ]
  },
  {
   "cell_type": "code",
   "execution_count": 3,
   "metadata": {
    "colab": {},
    "colab_type": "code",
    "id": "uxnhbUcP_J0t"
   },
   "outputs": [],
   "source": [
    "import numpy as np\n",
    "import pandas as pd\n",
    "import seaborn as sns\n",
    "import matplotlib.pyplot as plt\n",
    "\n",
    "from tqdm import tqdm_notebook\n",
    "from collections import Counter\n",
    "\n",
    "import math\n",
    "import random\n",
    "\n",
    "import requests, io"
   ]
  },
  {
   "cell_type": "markdown",
   "metadata": {
    "colab_type": "text",
    "id": "iDRZuHgc_J0w"
   },
   "source": [
    "#### Importing the Data"
   ]
  },
  {
   "cell_type": "code",
   "execution_count": 4,
   "metadata": {
    "colab": {},
    "colab_type": "code",
    "id": "aVbyTF70_J0x"
   },
   "outputs": [],
   "source": [
    "response = requests.get('https://antrikshassignment.s3.amazonaws.com/Questions.csv')\n",
    "file_object = io.StringIO(response.content.decode('latin-1'))\n",
    "dfQ = pd.read_csv(file_object)"
   ]
  },
  {
   "cell_type": "code",
   "execution_count": null,
   "metadata": {
    "colab": {},
    "colab_type": "code",
    "id": "1lxDm3Ex_J0z"
   },
   "outputs": [],
   "source": [
    "response = requests.get('https://antrikshassignment.s3.amazonaws.com/Answers.csv')\n",
    "file_object = io.StringIO(response.content.decode('latin-1'))\n",
    "dfA = pd.read_csv(file_object)"
   ]
  },
  {
   "cell_type": "code",
   "execution_count": null,
   "metadata": {
    "colab": {},
    "colab_type": "code",
    "id": "W_lIoFZ8_J02"
   },
   "outputs": [],
   "source": [
    "response = requests.get('https://antrikshassignment.s3.amazonaws.com/Tags.csv')\n",
    "file_object = io.StringIO(response.content.decode('latin-1'))\n",
    "dfT = pd.read_csv(file_object)"
   ]
  },
  {
   "cell_type": "code",
   "execution_count": null,
   "metadata": {
    "colab": {},
    "colab_type": "code",
    "id": "luY3WAWs_J05"
   },
   "outputs": [],
   "source": [
    "response = requests.get('https://antrikshassignment.s3.amazonaws.com/Users.csv')\n",
    "file_object = io.StringIO(response.content.decode('latin-1'))\n",
    "dfU = pd.read_csv(file_object)"
   ]
  },
  {
   "cell_type": "markdown",
   "metadata": {
    "colab_type": "text",
    "id": "iK_5ymNO_J07"
   },
   "source": [
    "#### Data Cleaning for Questions file"
   ]
  },
  {
   "cell_type": "code",
   "execution_count": 0,
   "metadata": {
    "colab": {
     "base_uri": "https://localhost:8080/",
     "height": 204
    },
    "colab_type": "code",
    "id": "spCsCZu-_J08",
    "outputId": "ef7e5240-3282-4fca-b241-1c2e2793a20f"
   },
   "outputs": [
    {
     "data": {
      "text/html": [
       "<div>\n",
       "<style scoped>\n",
       "    .dataframe tbody tr th:only-of-type {\n",
       "        vertical-align: middle;\n",
       "    }\n",
       "\n",
       "    .dataframe tbody tr th {\n",
       "        vertical-align: top;\n",
       "    }\n",
       "\n",
       "    .dataframe thead th {\n",
       "        text-align: right;\n",
       "    }\n",
       "</style>\n",
       "<table border=\"1\" class=\"dataframe\">\n",
       "  <thead>\n",
       "    <tr style=\"text-align: right;\">\n",
       "      <th></th>\n",
       "      <th>Id</th>\n",
       "      <th>OwnerUserId</th>\n",
       "      <th>CreationDate</th>\n",
       "      <th>ClosedDate</th>\n",
       "      <th>Score</th>\n",
       "      <th>Title</th>\n",
       "      <th>Body</th>\n",
       "    </tr>\n",
       "  </thead>\n",
       "  <tbody>\n",
       "    <tr>\n",
       "      <th>0</th>\n",
       "      <td>80</td>\n",
       "      <td>26.0</td>\n",
       "      <td>2008-08-01T13:57:07Z</td>\n",
       "      <td>NaN</td>\n",
       "      <td>26</td>\n",
       "      <td>SQLStatement.execute() - multiple queries in o...</td>\n",
       "      <td>&lt;p&gt;I've written a database generation script i...</td>\n",
       "    </tr>\n",
       "    <tr>\n",
       "      <th>1</th>\n",
       "      <td>90</td>\n",
       "      <td>58.0</td>\n",
       "      <td>2008-08-01T14:41:24Z</td>\n",
       "      <td>2012-12-26T03:45:49Z</td>\n",
       "      <td>144</td>\n",
       "      <td>Good branching and merging tutorials for Torto...</td>\n",
       "      <td>&lt;p&gt;Are there any really good tutorials explain...</td>\n",
       "    </tr>\n",
       "    <tr>\n",
       "      <th>2</th>\n",
       "      <td>120</td>\n",
       "      <td>83.0</td>\n",
       "      <td>2008-08-01T15:50:08Z</td>\n",
       "      <td>NaN</td>\n",
       "      <td>21</td>\n",
       "      <td>ASP.NET Site Maps</td>\n",
       "      <td>&lt;p&gt;Has anyone got experience creating &lt;strong&gt;...</td>\n",
       "    </tr>\n",
       "    <tr>\n",
       "      <th>3</th>\n",
       "      <td>180</td>\n",
       "      <td>2089740.0</td>\n",
       "      <td>2008-08-01T18:42:19Z</td>\n",
       "      <td>NaN</td>\n",
       "      <td>53</td>\n",
       "      <td>Function for creating color wheels</td>\n",
       "      <td>&lt;p&gt;This is something I've pseudo-solved many t...</td>\n",
       "    </tr>\n",
       "    <tr>\n",
       "      <th>4</th>\n",
       "      <td>260</td>\n",
       "      <td>91.0</td>\n",
       "      <td>2008-08-01T23:22:08Z</td>\n",
       "      <td>NaN</td>\n",
       "      <td>49</td>\n",
       "      <td>Adding scripting functionality to .NET applica...</td>\n",
       "      <td>&lt;p&gt;I have a little game written in C#. It uses...</td>\n",
       "    </tr>\n",
       "  </tbody>\n",
       "</table>\n",
       "</div>"
      ],
      "text/plain": [
       "    Id  ...                                               Body\n",
       "0   80  ...  <p>I've written a database generation script i...\n",
       "1   90  ...  <p>Are there any really good tutorials explain...\n",
       "2  120  ...  <p>Has anyone got experience creating <strong>...\n",
       "3  180  ...  <p>This is something I've pseudo-solved many t...\n",
       "4  260  ...  <p>I have a little game written in C#. It uses...\n",
       "\n",
       "[5 rows x 7 columns]"
      ]
     },
     "execution_count": 6,
     "metadata": {
      "tags": []
     },
     "output_type": "execute_result"
    }
   ],
   "source": [
    "dfQ.head()"
   ]
  },
  {
   "cell_type": "code",
   "execution_count": 0,
   "metadata": {
    "colab": {
     "base_uri": "https://localhost:8080/",
     "height": 204
    },
    "colab_type": "code",
    "id": "tGG0NbuY_J0_",
    "outputId": "ff1e66e7-7088-4102-bd54-948e6d0dc428"
   },
   "outputs": [
    {
     "data": {
      "text/html": [
       "<div>\n",
       "<style scoped>\n",
       "    .dataframe tbody tr th:only-of-type {\n",
       "        vertical-align: middle;\n",
       "    }\n",
       "\n",
       "    .dataframe tbody tr th {\n",
       "        vertical-align: top;\n",
       "    }\n",
       "\n",
       "    .dataframe thead th {\n",
       "        text-align: right;\n",
       "    }\n",
       "</style>\n",
       "<table border=\"1\" class=\"dataframe\">\n",
       "  <thead>\n",
       "    <tr style=\"text-align: right;\">\n",
       "      <th></th>\n",
       "      <th>Id</th>\n",
       "      <th>OwnerUserId</th>\n",
       "      <th>CreationDate</th>\n",
       "      <th>ClosedDate</th>\n",
       "      <th>Score</th>\n",
       "      <th>Title</th>\n",
       "    </tr>\n",
       "  </thead>\n",
       "  <tbody>\n",
       "    <tr>\n",
       "      <th>0</th>\n",
       "      <td>80</td>\n",
       "      <td>26.0</td>\n",
       "      <td>2008-08-01T13:57:07Z</td>\n",
       "      <td>NaN</td>\n",
       "      <td>26</td>\n",
       "      <td>SQLStatement.execute() - multiple queries in o...</td>\n",
       "    </tr>\n",
       "    <tr>\n",
       "      <th>1</th>\n",
       "      <td>90</td>\n",
       "      <td>58.0</td>\n",
       "      <td>2008-08-01T14:41:24Z</td>\n",
       "      <td>2012-12-26T03:45:49Z</td>\n",
       "      <td>144</td>\n",
       "      <td>Good branching and merging tutorials for Torto...</td>\n",
       "    </tr>\n",
       "    <tr>\n",
       "      <th>2</th>\n",
       "      <td>120</td>\n",
       "      <td>83.0</td>\n",
       "      <td>2008-08-01T15:50:08Z</td>\n",
       "      <td>NaN</td>\n",
       "      <td>21</td>\n",
       "      <td>ASP.NET Site Maps</td>\n",
       "    </tr>\n",
       "    <tr>\n",
       "      <th>3</th>\n",
       "      <td>180</td>\n",
       "      <td>2089740.0</td>\n",
       "      <td>2008-08-01T18:42:19Z</td>\n",
       "      <td>NaN</td>\n",
       "      <td>53</td>\n",
       "      <td>Function for creating color wheels</td>\n",
       "    </tr>\n",
       "    <tr>\n",
       "      <th>4</th>\n",
       "      <td>260</td>\n",
       "      <td>91.0</td>\n",
       "      <td>2008-08-01T23:22:08Z</td>\n",
       "      <td>NaN</td>\n",
       "      <td>49</td>\n",
       "      <td>Adding scripting functionality to .NET applica...</td>\n",
       "    </tr>\n",
       "  </tbody>\n",
       "</table>\n",
       "</div>"
      ],
      "text/plain": [
       "    Id  OwnerUserId  ... Score                                              Title\n",
       "0   80         26.0  ...    26  SQLStatement.execute() - multiple queries in o...\n",
       "1   90         58.0  ...   144  Good branching and merging tutorials for Torto...\n",
       "2  120         83.0  ...    21                                  ASP.NET Site Maps\n",
       "3  180    2089740.0  ...    53                 Function for creating color wheels\n",
       "4  260         91.0  ...    49  Adding scripting functionality to .NET applica...\n",
       "\n",
       "[5 rows x 6 columns]"
      ]
     },
     "execution_count": 7,
     "metadata": {
      "tags": []
     },
     "output_type": "execute_result"
    }
   ],
   "source": [
    "# Delete irrelevent columns from Question file\n",
    "dfQ.drop([\"Body\"] , axis= 1, inplace= True)\n",
    "dfQ.head()"
   ]
  },
  {
   "cell_type": "markdown",
   "metadata": {
    "colab_type": "text",
    "id": "aYz8f3mr_J1B"
   },
   "source": [
    "#### Data Cleaning for Answers file"
   ]
  },
  {
   "cell_type": "code",
   "execution_count": 0,
   "metadata": {
    "colab": {
     "base_uri": "https://localhost:8080/",
     "height": 204
    },
    "colab_type": "code",
    "id": "gP7bqGIE_J1C",
    "outputId": "53af1c9a-7287-402c-ea24-1712d70e5b89"
   },
   "outputs": [
    {
     "data": {
      "text/html": [
       "<div>\n",
       "<style scoped>\n",
       "    .dataframe tbody tr th:only-of-type {\n",
       "        vertical-align: middle;\n",
       "    }\n",
       "\n",
       "    .dataframe tbody tr th {\n",
       "        vertical-align: top;\n",
       "    }\n",
       "\n",
       "    .dataframe thead th {\n",
       "        text-align: right;\n",
       "    }\n",
       "</style>\n",
       "<table border=\"1\" class=\"dataframe\">\n",
       "  <thead>\n",
       "    <tr style=\"text-align: right;\">\n",
       "      <th></th>\n",
       "      <th>Id</th>\n",
       "      <th>OwnerUserId</th>\n",
       "      <th>CreationDate</th>\n",
       "      <th>ParentId</th>\n",
       "      <th>Score</th>\n",
       "      <th>Body</th>\n",
       "    </tr>\n",
       "  </thead>\n",
       "  <tbody>\n",
       "    <tr>\n",
       "      <th>0</th>\n",
       "      <td>92</td>\n",
       "      <td>61.0</td>\n",
       "      <td>2008-08-01T14:45:37Z</td>\n",
       "      <td>90</td>\n",
       "      <td>13</td>\n",
       "      <td>&lt;p&gt;&lt;a href=\"http://svnbook.red-bean.com/\"&gt;Vers...</td>\n",
       "    </tr>\n",
       "    <tr>\n",
       "      <th>1</th>\n",
       "      <td>124</td>\n",
       "      <td>26.0</td>\n",
       "      <td>2008-08-01T16:09:47Z</td>\n",
       "      <td>80</td>\n",
       "      <td>12</td>\n",
       "      <td>&lt;p&gt;I wound up using this. It is a kind of a ha...</td>\n",
       "    </tr>\n",
       "    <tr>\n",
       "      <th>2</th>\n",
       "      <td>199</td>\n",
       "      <td>50.0</td>\n",
       "      <td>2008-08-01T19:36:46Z</td>\n",
       "      <td>180</td>\n",
       "      <td>1</td>\n",
       "      <td>&lt;p&gt;I've read somewhere the human eye can't dis...</td>\n",
       "    </tr>\n",
       "    <tr>\n",
       "      <th>3</th>\n",
       "      <td>269</td>\n",
       "      <td>91.0</td>\n",
       "      <td>2008-08-01T23:49:57Z</td>\n",
       "      <td>260</td>\n",
       "      <td>4</td>\n",
       "      <td>&lt;p&gt;Yes, I thought about that, but I soon figur...</td>\n",
       "    </tr>\n",
       "    <tr>\n",
       "      <th>4</th>\n",
       "      <td>307</td>\n",
       "      <td>49.0</td>\n",
       "      <td>2008-08-02T01:49:46Z</td>\n",
       "      <td>260</td>\n",
       "      <td>28</td>\n",
       "      <td>&lt;p&gt;&lt;a href=\"http://www.codeproject.com/Article...</td>\n",
       "    </tr>\n",
       "  </tbody>\n",
       "</table>\n",
       "</div>"
      ],
      "text/plain": [
       "    Id  OwnerUserId  ... Score                                               Body\n",
       "0   92         61.0  ...    13  <p><a href=\"http://svnbook.red-bean.com/\">Vers...\n",
       "1  124         26.0  ...    12  <p>I wound up using this. It is a kind of a ha...\n",
       "2  199         50.0  ...     1  <p>I've read somewhere the human eye can't dis...\n",
       "3  269         91.0  ...     4  <p>Yes, I thought about that, but I soon figur...\n",
       "4  307         49.0  ...    28  <p><a href=\"http://www.codeproject.com/Article...\n",
       "\n",
       "[5 rows x 6 columns]"
      ]
     },
     "execution_count": 8,
     "metadata": {
      "tags": []
     },
     "output_type": "execute_result"
    }
   ],
   "source": [
    "dfA.head()"
   ]
  },
  {
   "cell_type": "code",
   "execution_count": 0,
   "metadata": {
    "colab": {
     "base_uri": "https://localhost:8080/",
     "height": 204
    },
    "colab_type": "code",
    "id": "kRcw4t8K_J1E",
    "outputId": "193a41bf-7048-4973-c789-8c74c32cca19"
   },
   "outputs": [
    {
     "data": {
      "text/html": [
       "<div>\n",
       "<style scoped>\n",
       "    .dataframe tbody tr th:only-of-type {\n",
       "        vertical-align: middle;\n",
       "    }\n",
       "\n",
       "    .dataframe tbody tr th {\n",
       "        vertical-align: top;\n",
       "    }\n",
       "\n",
       "    .dataframe thead th {\n",
       "        text-align: right;\n",
       "    }\n",
       "</style>\n",
       "<table border=\"1\" class=\"dataframe\">\n",
       "  <thead>\n",
       "    <tr style=\"text-align: right;\">\n",
       "      <th></th>\n",
       "      <th>Id</th>\n",
       "      <th>OwnerUserId</th>\n",
       "      <th>CreationDate</th>\n",
       "      <th>ParentId</th>\n",
       "      <th>Score</th>\n",
       "    </tr>\n",
       "  </thead>\n",
       "  <tbody>\n",
       "    <tr>\n",
       "      <th>0</th>\n",
       "      <td>92</td>\n",
       "      <td>61.0</td>\n",
       "      <td>2008-08-01T14:45:37Z</td>\n",
       "      <td>90</td>\n",
       "      <td>13</td>\n",
       "    </tr>\n",
       "    <tr>\n",
       "      <th>1</th>\n",
       "      <td>124</td>\n",
       "      <td>26.0</td>\n",
       "      <td>2008-08-01T16:09:47Z</td>\n",
       "      <td>80</td>\n",
       "      <td>12</td>\n",
       "    </tr>\n",
       "    <tr>\n",
       "      <th>2</th>\n",
       "      <td>199</td>\n",
       "      <td>50.0</td>\n",
       "      <td>2008-08-01T19:36:46Z</td>\n",
       "      <td>180</td>\n",
       "      <td>1</td>\n",
       "    </tr>\n",
       "    <tr>\n",
       "      <th>3</th>\n",
       "      <td>269</td>\n",
       "      <td>91.0</td>\n",
       "      <td>2008-08-01T23:49:57Z</td>\n",
       "      <td>260</td>\n",
       "      <td>4</td>\n",
       "    </tr>\n",
       "    <tr>\n",
       "      <th>4</th>\n",
       "      <td>307</td>\n",
       "      <td>49.0</td>\n",
       "      <td>2008-08-02T01:49:46Z</td>\n",
       "      <td>260</td>\n",
       "      <td>28</td>\n",
       "    </tr>\n",
       "  </tbody>\n",
       "</table>\n",
       "</div>"
      ],
      "text/plain": [
       "    Id  OwnerUserId          CreationDate  ParentId  Score\n",
       "0   92         61.0  2008-08-01T14:45:37Z        90     13\n",
       "1  124         26.0  2008-08-01T16:09:47Z        80     12\n",
       "2  199         50.0  2008-08-01T19:36:46Z       180      1\n",
       "3  269         91.0  2008-08-01T23:49:57Z       260      4\n",
       "4  307         49.0  2008-08-02T01:49:46Z       260     28"
      ]
     },
     "execution_count": 9,
     "metadata": {
      "tags": []
     },
     "output_type": "execute_result"
    }
   ],
   "source": [
    "# Delete irrelevent columns from Answer file.\n",
    "dfA.drop([\"Body\"] , axis= 1, inplace= True)\n",
    "dfA.head()"
   ]
  },
  {
   "cell_type": "markdown",
   "metadata": {
    "colab_type": "text",
    "id": "NQ5vwfiL_J1G"
   },
   "source": [
    "#### Merging ParentId in dfA to Id in dfQ"
   ]
  },
  {
   "cell_type": "code",
   "execution_count": 0,
   "metadata": {
    "colab": {
     "base_uri": "https://localhost:8080/",
     "height": 289
    },
    "colab_type": "code",
    "id": "ayteyfKy_J1H",
    "outputId": "a97863ba-e42e-4df8-f390-136fa809ad12"
   },
   "outputs": [
    {
     "data": {
      "text/html": [
       "<div>\n",
       "<style scoped>\n",
       "    .dataframe tbody tr th:only-of-type {\n",
       "        vertical-align: middle;\n",
       "    }\n",
       "\n",
       "    .dataframe tbody tr th {\n",
       "        vertical-align: top;\n",
       "    }\n",
       "\n",
       "    .dataframe thead th {\n",
       "        text-align: right;\n",
       "    }\n",
       "</style>\n",
       "<table border=\"1\" class=\"dataframe\">\n",
       "  <thead>\n",
       "    <tr style=\"text-align: right;\">\n",
       "      <th></th>\n",
       "      <th>Id_x</th>\n",
       "      <th>OwnerUserId_x</th>\n",
       "      <th>CreationDate_x</th>\n",
       "      <th>ClosedDate</th>\n",
       "      <th>Score_x</th>\n",
       "      <th>Title</th>\n",
       "      <th>Id_y</th>\n",
       "      <th>OwnerUserId_y</th>\n",
       "      <th>CreationDate_y</th>\n",
       "      <th>ParentId</th>\n",
       "      <th>Score_y</th>\n",
       "    </tr>\n",
       "  </thead>\n",
       "  <tbody>\n",
       "    <tr>\n",
       "      <th>0</th>\n",
       "      <td>80</td>\n",
       "      <td>26.0</td>\n",
       "      <td>2008-08-01T13:57:07Z</td>\n",
       "      <td>NaN</td>\n",
       "      <td>26</td>\n",
       "      <td>SQLStatement.execute() - multiple queries in o...</td>\n",
       "      <td>124</td>\n",
       "      <td>26.0</td>\n",
       "      <td>2008-08-01T16:09:47Z</td>\n",
       "      <td>80</td>\n",
       "      <td>12</td>\n",
       "    </tr>\n",
       "    <tr>\n",
       "      <th>1</th>\n",
       "      <td>80</td>\n",
       "      <td>26.0</td>\n",
       "      <td>2008-08-01T13:57:07Z</td>\n",
       "      <td>NaN</td>\n",
       "      <td>26</td>\n",
       "      <td>SQLStatement.execute() - multiple queries in o...</td>\n",
       "      <td>10008</td>\n",
       "      <td>1109.0</td>\n",
       "      <td>2008-08-13T16:09:09Z</td>\n",
       "      <td>80</td>\n",
       "      <td>6</td>\n",
       "    </tr>\n",
       "    <tr>\n",
       "      <th>2</th>\n",
       "      <td>80</td>\n",
       "      <td>26.0</td>\n",
       "      <td>2008-08-01T13:57:07Z</td>\n",
       "      <td>NaN</td>\n",
       "      <td>26</td>\n",
       "      <td>SQLStatement.execute() - multiple queries in o...</td>\n",
       "      <td>3770976</td>\n",
       "      <td>364174.0</td>\n",
       "      <td>2010-09-22T15:37:30Z</td>\n",
       "      <td>80</td>\n",
       "      <td>1</td>\n",
       "    </tr>\n",
       "    <tr>\n",
       "      <th>3</th>\n",
       "      <td>90</td>\n",
       "      <td>58.0</td>\n",
       "      <td>2008-08-01T14:41:24Z</td>\n",
       "      <td>2012-12-26T03:45:49Z</td>\n",
       "      <td>144</td>\n",
       "      <td>Good branching and merging tutorials for Torto...</td>\n",
       "      <td>92</td>\n",
       "      <td>61.0</td>\n",
       "      <td>2008-08-01T14:45:37Z</td>\n",
       "      <td>90</td>\n",
       "      <td>13</td>\n",
       "    </tr>\n",
       "    <tr>\n",
       "      <th>4</th>\n",
       "      <td>90</td>\n",
       "      <td>58.0</td>\n",
       "      <td>2008-08-01T14:41:24Z</td>\n",
       "      <td>2012-12-26T03:45:49Z</td>\n",
       "      <td>144</td>\n",
       "      <td>Good branching and merging tutorials for Torto...</td>\n",
       "      <td>202317</td>\n",
       "      <td>20709.0</td>\n",
       "      <td>2008-10-14T18:41:45Z</td>\n",
       "      <td>90</td>\n",
       "      <td>2</td>\n",
       "    </tr>\n",
       "  </tbody>\n",
       "</table>\n",
       "</div>"
      ],
      "text/plain": [
       "   Id_x  OwnerUserId_x  ... ParentId Score_y\n",
       "0    80           26.0  ...       80      12\n",
       "1    80           26.0  ...       80       6\n",
       "2    80           26.0  ...       80       1\n",
       "3    90           58.0  ...       90      13\n",
       "4    90           58.0  ...       90       2\n",
       "\n",
       "[5 rows x 11 columns]"
      ]
     },
     "execution_count": 10,
     "metadata": {
      "tags": []
     },
     "output_type": "execute_result"
    }
   ],
   "source": [
    "dfQA = pd.merge(dfQ, dfA, how='right', left_on='Id', right_on= 'ParentId')\n",
    "dfQA.head()"
   ]
  },
  {
   "cell_type": "code",
   "execution_count": 0,
   "metadata": {
    "colab": {
     "base_uri": "https://localhost:8080/",
     "height": 289
    },
    "colab_type": "code",
    "id": "3c1f5sWx_J1J",
    "outputId": "96f6817e-ce6e-4758-80b6-dcf59f3acaa9"
   },
   "outputs": [
    {
     "name": "stdout",
     "output_type": "stream",
     "text": [
      "<class 'pandas.core.frame.DataFrame'>\n",
      "Int64Index: 2014516 entries, 0 to 2014515\n",
      "Data columns (total 11 columns):\n",
      "Id_x              int64\n",
      "OwnerUserId_x     float64\n",
      "CreationDate_x    object\n",
      "ClosedDate        object\n",
      "Score_x           int64\n",
      "Title             object\n",
      "Id_y              int64\n",
      "OwnerUserId_y     float64\n",
      "CreationDate_y    object\n",
      "ParentId          int64\n",
      "Score_y           int64\n",
      "dtypes: float64(2), int64(5), object(4)\n",
      "memory usage: 184.4+ MB\n"
     ]
    }
   ],
   "source": [
    "# Let's see what we can make out from the datatypes\n",
    "# Printing the Data types of Question-Answers file.\n",
    "dfQA.info()"
   ]
  },
  {
   "cell_type": "code",
   "execution_count": 0,
   "metadata": {
    "colab": {
     "base_uri": "https://localhost:8080/",
     "height": 289
    },
    "colab_type": "code",
    "id": "x1LjgG5e_J1M",
    "outputId": "87ce34ff-1798-489c-effc-50403085e236"
   },
   "outputs": [
    {
     "data": {
      "text/html": [
       "<div>\n",
       "<style scoped>\n",
       "    .dataframe tbody tr th:only-of-type {\n",
       "        vertical-align: middle;\n",
       "    }\n",
       "\n",
       "    .dataframe tbody tr th {\n",
       "        vertical-align: top;\n",
       "    }\n",
       "\n",
       "    .dataframe thead th {\n",
       "        text-align: right;\n",
       "    }\n",
       "</style>\n",
       "<table border=\"1\" class=\"dataframe\">\n",
       "  <thead>\n",
       "    <tr style=\"text-align: right;\">\n",
       "      <th></th>\n",
       "      <th>Id_x</th>\n",
       "      <th>OwnerUserId_x</th>\n",
       "      <th>CreationDate_x</th>\n",
       "      <th>ClosedDate</th>\n",
       "      <th>Score_x</th>\n",
       "      <th>Title</th>\n",
       "      <th>Id_y</th>\n",
       "      <th>OwnerUserId_y</th>\n",
       "      <th>CreationDate_y</th>\n",
       "      <th>ParentId</th>\n",
       "      <th>Score_y</th>\n",
       "    </tr>\n",
       "  </thead>\n",
       "  <tbody>\n",
       "    <tr>\n",
       "      <th>0</th>\n",
       "      <td>80</td>\n",
       "      <td>26</td>\n",
       "      <td>2008-08-01T13:57:07Z</td>\n",
       "      <td>NaN</td>\n",
       "      <td>26</td>\n",
       "      <td>SQLStatement.execute() - multiple queries in o...</td>\n",
       "      <td>124</td>\n",
       "      <td>26</td>\n",
       "      <td>2008-08-01T16:09:47Z</td>\n",
       "      <td>80</td>\n",
       "      <td>12</td>\n",
       "    </tr>\n",
       "    <tr>\n",
       "      <th>1</th>\n",
       "      <td>80</td>\n",
       "      <td>26</td>\n",
       "      <td>2008-08-01T13:57:07Z</td>\n",
       "      <td>NaN</td>\n",
       "      <td>26</td>\n",
       "      <td>SQLStatement.execute() - multiple queries in o...</td>\n",
       "      <td>10008</td>\n",
       "      <td>1109</td>\n",
       "      <td>2008-08-13T16:09:09Z</td>\n",
       "      <td>80</td>\n",
       "      <td>6</td>\n",
       "    </tr>\n",
       "    <tr>\n",
       "      <th>2</th>\n",
       "      <td>80</td>\n",
       "      <td>26</td>\n",
       "      <td>2008-08-01T13:57:07Z</td>\n",
       "      <td>NaN</td>\n",
       "      <td>26</td>\n",
       "      <td>SQLStatement.execute() - multiple queries in o...</td>\n",
       "      <td>3770976</td>\n",
       "      <td>364174</td>\n",
       "      <td>2010-09-22T15:37:30Z</td>\n",
       "      <td>80</td>\n",
       "      <td>1</td>\n",
       "    </tr>\n",
       "    <tr>\n",
       "      <th>3</th>\n",
       "      <td>90</td>\n",
       "      <td>58</td>\n",
       "      <td>2008-08-01T14:41:24Z</td>\n",
       "      <td>2012-12-26T03:45:49Z</td>\n",
       "      <td>144</td>\n",
       "      <td>Good branching and merging tutorials for Torto...</td>\n",
       "      <td>92</td>\n",
       "      <td>61</td>\n",
       "      <td>2008-08-01T14:45:37Z</td>\n",
       "      <td>90</td>\n",
       "      <td>13</td>\n",
       "    </tr>\n",
       "    <tr>\n",
       "      <th>4</th>\n",
       "      <td>90</td>\n",
       "      <td>58</td>\n",
       "      <td>2008-08-01T14:41:24Z</td>\n",
       "      <td>2012-12-26T03:45:49Z</td>\n",
       "      <td>144</td>\n",
       "      <td>Good branching and merging tutorials for Torto...</td>\n",
       "      <td>202317</td>\n",
       "      <td>20709</td>\n",
       "      <td>2008-10-14T18:41:45Z</td>\n",
       "      <td>90</td>\n",
       "      <td>2</td>\n",
       "    </tr>\n",
       "  </tbody>\n",
       "</table>\n",
       "</div>"
      ],
      "text/plain": [
       "  Id_x OwnerUserId_x  ... ParentId Score_y\n",
       "0   80            26  ...       80      12\n",
       "1   80            26  ...       80       6\n",
       "2   80            26  ...       80       1\n",
       "3   90            58  ...       90      13\n",
       "4   90            58  ...       90       2\n",
       "\n",
       "[5 rows x 11 columns]"
      ]
     },
     "execution_count": 12,
     "metadata": {
      "tags": []
     },
     "output_type": "execute_result"
    }
   ],
   "source": [
    "dfQA = dfQA.dropna(subset = ['OwnerUserId_x', 'OwnerUserId_y'])\n",
    "\n",
    "# Id_x, OwnerUserId_x, Id_y, OwnerUserId_y, ParentId need to be set to string since they are nominal categorical datatypes\n",
    "dfQA[['Id_x', 'OwnerUserId_x', 'OwnerUserId_y', 'ParentId', 'Id_y']] = dfQA[['Id_x', 'OwnerUserId_x', 'OwnerUserId_y', 'ParentId', 'Id_y']].astype('int64').astype(str)\n",
    "\n",
    "dfQA.head()"
   ]
  },
  {
   "cell_type": "markdown",
   "metadata": {
    "colab_type": "text",
    "id": "vSDwqCEw_J1O"
   },
   "source": [
    "#### Data Cleaning for Tags file"
   ]
  },
  {
   "cell_type": "code",
   "execution_count": 0,
   "metadata": {
    "colab": {
     "base_uri": "https://localhost:8080/",
     "height": 204
    },
    "colab_type": "code",
    "id": "zUokvSVorepd",
    "outputId": "c722fc60-0ce8-4a33-e96b-792e903cd795"
   },
   "outputs": [
    {
     "data": {
      "text/html": [
       "<div>\n",
       "<style scoped>\n",
       "    .dataframe tbody tr th:only-of-type {\n",
       "        vertical-align: middle;\n",
       "    }\n",
       "\n",
       "    .dataframe tbody tr th {\n",
       "        vertical-align: top;\n",
       "    }\n",
       "\n",
       "    .dataframe thead th {\n",
       "        text-align: right;\n",
       "    }\n",
       "</style>\n",
       "<table border=\"1\" class=\"dataframe\">\n",
       "  <thead>\n",
       "    <tr style=\"text-align: right;\">\n",
       "      <th></th>\n",
       "      <th>Id</th>\n",
       "      <th>Tag</th>\n",
       "    </tr>\n",
       "  </thead>\n",
       "  <tbody>\n",
       "    <tr>\n",
       "      <th>0</th>\n",
       "      <td>80</td>\n",
       "      <td>flex</td>\n",
       "    </tr>\n",
       "    <tr>\n",
       "      <th>1</th>\n",
       "      <td>80</td>\n",
       "      <td>actionscript-3</td>\n",
       "    </tr>\n",
       "    <tr>\n",
       "      <th>2</th>\n",
       "      <td>80</td>\n",
       "      <td>air</td>\n",
       "    </tr>\n",
       "    <tr>\n",
       "      <th>3</th>\n",
       "      <td>90</td>\n",
       "      <td>svn</td>\n",
       "    </tr>\n",
       "    <tr>\n",
       "      <th>4</th>\n",
       "      <td>90</td>\n",
       "      <td>tortoisesvn</td>\n",
       "    </tr>\n",
       "  </tbody>\n",
       "</table>\n",
       "</div>"
      ],
      "text/plain": [
       "   Id             Tag\n",
       "0  80            flex\n",
       "1  80  actionscript-3\n",
       "2  80             air\n",
       "3  90             svn\n",
       "4  90     tortoisesvn"
      ]
     },
     "execution_count": 13,
     "metadata": {
      "tags": []
     },
     "output_type": "execute_result"
    }
   ],
   "source": [
    "dfT.head()"
   ]
  },
  {
   "cell_type": "code",
   "execution_count": 0,
   "metadata": {
    "colab": {
     "base_uri": "https://localhost:8080/",
     "height": 136
    },
    "colab_type": "code",
    "id": "NrhGM4RY_J1P",
    "outputId": "8ffe511d-d502-4cba-a14e-69acc4a93a61"
   },
   "outputs": [
    {
     "name": "stdout",
     "output_type": "stream",
     "text": [
      "<class 'pandas.core.frame.DataFrame'>\n",
      "RangeIndex: 3750994 entries, 0 to 3750993\n",
      "Data columns (total 2 columns):\n",
      "Id     int64\n",
      "Tag    object\n",
      "dtypes: int64(1), object(1)\n",
      "memory usage: 57.2+ MB\n"
     ]
    }
   ],
   "source": [
    "# Print the Data types ofTag file\n",
    "dfT.info()"
   ]
  },
  {
   "cell_type": "code",
   "execution_count": 0,
   "metadata": {
    "colab": {},
    "colab_type": "code",
    "id": "nei85qEf_J1R"
   },
   "outputs": [],
   "source": [
    "# Making sure all the datypes in dfT are in string format\n",
    "dfT['Id'] = dfT.round(0).astype(str)\n",
    "dfT['Tag'] = dfT['Tag'].astype(str)\n",
    "\n",
    "dfT_tags_grouped = dfT.groupby(['Id'])['Tag'].apply(','.join).reset_index() # Grouping all the tags together"
   ]
  },
  {
   "cell_type": "markdown",
   "metadata": {
    "colab_type": "text",
    "id": "5s4NR4ah_J1T"
   },
   "source": [
    "#### Merging the dfQA (Questions and Answers file) into dfT (tag file)"
   ]
  },
  {
   "cell_type": "code",
   "execution_count": 0,
   "metadata": {
    "colab": {},
    "colab_type": "code",
    "id": "ip7BGSU8_J1U"
   },
   "outputs": [],
   "source": [
    "dfQAT = pd.merge(dfQA, dfT_tags_grouped, how='inner', left_on='Id_x', right_on= 'Id')"
   ]
  },
  {
   "cell_type": "markdown",
   "metadata": {
    "colab_type": "text",
    "id": "vRLB3kHr_J1W"
   },
   "source": [
    "#### Data Cleaning for Users file"
   ]
  },
  {
   "cell_type": "code",
   "execution_count": 0,
   "metadata": {
    "colab": {
     "base_uri": "https://localhost:8080/",
     "height": 204
    },
    "colab_type": "code",
    "id": "auUdp_6V_J1W",
    "outputId": "4d7e0d11-df20-4615-9ab2-e24237e2cf69"
   },
   "outputs": [
    {
     "data": {
      "text/html": [
       "<div>\n",
       "<style scoped>\n",
       "    .dataframe tbody tr th:only-of-type {\n",
       "        vertical-align: middle;\n",
       "    }\n",
       "\n",
       "    .dataframe tbody tr th {\n",
       "        vertical-align: top;\n",
       "    }\n",
       "\n",
       "    .dataframe thead th {\n",
       "        text-align: right;\n",
       "    }\n",
       "</style>\n",
       "<table border=\"1\" class=\"dataframe\">\n",
       "  <thead>\n",
       "    <tr style=\"text-align: right;\">\n",
       "      <th></th>\n",
       "      <th>Unnamed: 0</th>\n",
       "      <th>id</th>\n",
       "      <th>display_name</th>\n",
       "      <th>creation_date</th>\n",
       "      <th>last_access_date</th>\n",
       "      <th>reputation</th>\n",
       "      <th>up_votes</th>\n",
       "      <th>down_votes</th>\n",
       "      <th>views</th>\n",
       "    </tr>\n",
       "  </thead>\n",
       "  <tbody>\n",
       "    <tr>\n",
       "      <th>0</th>\n",
       "      <td>0</td>\n",
       "      <td>26</td>\n",
       "      <td>Shawn</td>\n",
       "      <td>2008-08-01 12:18:14.52 UTC</td>\n",
       "      <td>2018-04-11 04:40:35.66 UTC</td>\n",
       "      <td>11820</td>\n",
       "      <td>565</td>\n",
       "      <td>67</td>\n",
       "      <td>3547</td>\n",
       "    </tr>\n",
       "    <tr>\n",
       "      <th>1</th>\n",
       "      <td>1</td>\n",
       "      <td>26</td>\n",
       "      <td>Shawn</td>\n",
       "      <td>2008-08-01 12:18:14.52 UTC</td>\n",
       "      <td>2018-04-11 04:40:35.66 UTC</td>\n",
       "      <td>11820</td>\n",
       "      <td>565</td>\n",
       "      <td>67</td>\n",
       "      <td>3547</td>\n",
       "    </tr>\n",
       "    <tr>\n",
       "      <th>2</th>\n",
       "      <td>2</td>\n",
       "      <td>26</td>\n",
       "      <td>Shawn</td>\n",
       "      <td>2008-08-01 12:18:14.52 UTC</td>\n",
       "      <td>2018-04-11 04:40:35.66 UTC</td>\n",
       "      <td>11820</td>\n",
       "      <td>565</td>\n",
       "      <td>67</td>\n",
       "      <td>3547</td>\n",
       "    </tr>\n",
       "    <tr>\n",
       "      <th>3</th>\n",
       "      <td>3</td>\n",
       "      <td>26</td>\n",
       "      <td>Shawn</td>\n",
       "      <td>2008-08-01 12:18:14.52 UTC</td>\n",
       "      <td>2018-04-11 04:40:35.66 UTC</td>\n",
       "      <td>11820</td>\n",
       "      <td>565</td>\n",
       "      <td>67</td>\n",
       "      <td>3547</td>\n",
       "    </tr>\n",
       "    <tr>\n",
       "      <th>4</th>\n",
       "      <td>4</td>\n",
       "      <td>26</td>\n",
       "      <td>Shawn</td>\n",
       "      <td>2008-08-01 12:18:14.52 UTC</td>\n",
       "      <td>2018-04-11 04:40:35.66 UTC</td>\n",
       "      <td>11820</td>\n",
       "      <td>565</td>\n",
       "      <td>67</td>\n",
       "      <td>3547</td>\n",
       "    </tr>\n",
       "  </tbody>\n",
       "</table>\n",
       "</div>"
      ],
      "text/plain": [
       "   Unnamed: 0  id display_name  ... up_votes down_votes  views\n",
       "0           0  26        Shawn  ...      565         67   3547\n",
       "1           1  26        Shawn  ...      565         67   3547\n",
       "2           2  26        Shawn  ...      565         67   3547\n",
       "3           3  26        Shawn  ...      565         67   3547\n",
       "4           4  26        Shawn  ...      565         67   3547\n",
       "\n",
       "[5 rows x 9 columns]"
      ]
     },
     "execution_count": 17,
     "metadata": {
      "tags": []
     },
     "output_type": "execute_result"
    }
   ],
   "source": [
    "dfU.head()"
   ]
  },
  {
   "cell_type": "code",
   "execution_count": 0,
   "metadata": {
    "colab": {
     "base_uri": "https://localhost:8080/",
     "height": 255
    },
    "colab_type": "code",
    "id": "tEsC30H8_J1b",
    "outputId": "390f490d-e276-439f-96c4-8de5559f0bc1"
   },
   "outputs": [
    {
     "name": "stdout",
     "output_type": "stream",
     "text": [
      "<class 'pandas.core.frame.DataFrame'>\n",
      "RangeIndex: 1990480 entries, 0 to 1990479\n",
      "Data columns (total 9 columns):\n",
      "Unnamed: 0          int64\n",
      "id                  int64\n",
      "display_name        object\n",
      "creation_date       object\n",
      "last_access_date    object\n",
      "reputation          int64\n",
      "up_votes            int64\n",
      "down_votes          int64\n",
      "views               int64\n",
      "dtypes: int64(6), object(3)\n",
      "memory usage: 136.7+ MB\n"
     ]
    }
   ],
   "source": [
    "# Converting required datatypes into proper format\n",
    "dfU.info()"
   ]
  },
  {
   "cell_type": "code",
   "execution_count": 0,
   "metadata": {
    "colab": {
     "base_uri": "https://localhost:8080/",
     "height": 204
    },
    "colab_type": "code",
    "id": "E9NuuFdK_J1d",
    "outputId": "736c42d8-418d-470c-c018-2f2a83c05d3e"
   },
   "outputs": [
    {
     "data": {
      "text/html": [
       "<div>\n",
       "<style scoped>\n",
       "    .dataframe tbody tr th:only-of-type {\n",
       "        vertical-align: middle;\n",
       "    }\n",
       "\n",
       "    .dataframe tbody tr th {\n",
       "        vertical-align: top;\n",
       "    }\n",
       "\n",
       "    .dataframe thead th {\n",
       "        text-align: right;\n",
       "    }\n",
       "</style>\n",
       "<table border=\"1\" class=\"dataframe\">\n",
       "  <thead>\n",
       "    <tr style=\"text-align: right;\">\n",
       "      <th></th>\n",
       "      <th>id</th>\n",
       "      <th>reputation</th>\n",
       "      <th>up_votes</th>\n",
       "      <th>down_votes</th>\n",
       "      <th>views</th>\n",
       "    </tr>\n",
       "  </thead>\n",
       "  <tbody>\n",
       "    <tr>\n",
       "      <th>0</th>\n",
       "      <td>26</td>\n",
       "      <td>11820</td>\n",
       "      <td>565</td>\n",
       "      <td>67</td>\n",
       "      <td>3547</td>\n",
       "    </tr>\n",
       "    <tr>\n",
       "      <th>27</th>\n",
       "      <td>1109</td>\n",
       "      <td>116072</td>\n",
       "      <td>457</td>\n",
       "      <td>136</td>\n",
       "      <td>6905</td>\n",
       "    </tr>\n",
       "    <tr>\n",
       "      <th>85</th>\n",
       "      <td>364174</td>\n",
       "      <td>325</td>\n",
       "      <td>25</td>\n",
       "      <td>1</td>\n",
       "      <td>60</td>\n",
       "    </tr>\n",
       "    <tr>\n",
       "      <th>87</th>\n",
       "      <td>61</td>\n",
       "      <td>22779</td>\n",
       "      <td>1321</td>\n",
       "      <td>219</td>\n",
       "      <td>1731</td>\n",
       "    </tr>\n",
       "    <tr>\n",
       "      <th>97</th>\n",
       "      <td>20709</td>\n",
       "      <td>978</td>\n",
       "      <td>73</td>\n",
       "      <td>2</td>\n",
       "      <td>96</td>\n",
       "    </tr>\n",
       "  </tbody>\n",
       "</table>\n",
       "</div>"
      ],
      "text/plain": [
       "        id  reputation  up_votes  down_votes  views\n",
       "0       26       11820       565          67   3547\n",
       "27    1109      116072       457         136   6905\n",
       "85  364174         325        25           1     60\n",
       "87      61       22779      1321         219   1731\n",
       "97   20709         978        73           2     96"
      ]
     },
     "execution_count": 19,
     "metadata": {
      "tags": []
     },
     "output_type": "execute_result"
    }
   ],
   "source": [
    "dfU = dfU.drop(columns = ['Unnamed: 0', 'display_name', 'creation_date','last_access_date'])\n",
    "dfU['id'] = dfU['id'].astype(str)\n",
    "dfU = dfU.drop_duplicates()\n",
    "dfU.head()"
   ]
  },
  {
   "cell_type": "markdown",
   "metadata": {
    "colab_type": "text",
    "id": "J9KxdE9W_J1h"
   },
   "source": [
    "#### Merging the dfQAT (Questions, Answers, Tag file) into dfU (Users file)"
   ]
  },
  {
   "cell_type": "code",
   "execution_count": 0,
   "metadata": {
    "colab": {},
    "colab_type": "code",
    "id": "Pi1Q6x3-_J1i"
   },
   "outputs": [],
   "source": [
    "dfQATU = pd.merge(dfQAT, dfU, how='left', left_on='OwnerUserId_y', right_on= 'id')"
   ]
  },
  {
   "cell_type": "markdown",
   "metadata": {
    "colab_type": "text",
    "id": "eMKGoFVP_J1l"
   },
   "source": [
    "# Let's begin the analysis!!!"
   ]
  },
  {
   "cell_type": "markdown",
   "metadata": {
    "colab_type": "text",
    "id": "zH0N7-yp_J1m"
   },
   "source": [
    "#### Which all Questions had the highest scores"
   ]
  },
  {
   "cell_type": "code",
   "execution_count": 0,
   "metadata": {
    "colab": {
     "base_uri": "https://localhost:8080/",
     "height": 357
    },
    "colab_type": "code",
    "id": "gjDP480D_J1m",
    "outputId": "3bd7b9f8-3aa6-4c08-e611-1bfef4855b39"
   },
   "outputs": [
    {
     "name": "stdout",
     "output_type": "stream",
     "text": [
      "Question id: 348170\n",
      "Score : 5190\n",
      "Question Title\t: How to undo 'git add' before commit? \n",
      "\n",
      "Question id: 40480\n",
      "Score : 3613\n",
      "Question Title\t: Is Java \"pass-by-reference\" or \"pass-by-value\"? \n",
      "\n",
      "Question id: 406230\n",
      "Score : 2537\n",
      "Question Title\t: Regular expression to match line that doesn't contain a word? \n",
      "\n",
      "Question id: 520650\n",
      "Score : 2399\n",
      "Question Title\t: Make an existing Git branch track a remote branch? \n",
      "\n",
      "Question id: 2669690\n",
      "Score : 2363\n",
      "Question Title\t: Why does Google prepend while(1); to their JSON responses? \n",
      "\n"
     ]
    }
   ],
   "source": [
    "top_Questions =list(zip(dfQ[\"Id\"], dfQ[\"Score\"], dfQ[\"Title\"]))\n",
    "top_Questions.sort(key=lambda x: x[1],reverse=True)\n",
    "for id,s,t in top_Questions[:5]:\n",
    "    print(\"Question id:\",id)\n",
    "    print(\"Score :\",s)\n",
    "    print(\"Question Title\\t:\",t,'\\n')\n",
    "\n",
    "# Since there is no need of the 'Title' column, we might as well drop it\n",
    "dfQ.drop([\"Title\"] , axis= 1, inplace= True)"
   ]
  },
  {
   "cell_type": "code",
   "execution_count": 0,
   "metadata": {
    "colab": {
     "base_uri": "https://localhost:8080/",
     "height": 343
    },
    "colab_type": "code",
    "id": "khT7LWNd_J1o",
    "outputId": "27a6cfac-16dd-4049-ed11-745a5579522e"
   },
   "outputs": [
    {
     "data": {
      "text/html": [
       "<div>\n",
       "<style scoped>\n",
       "    .dataframe tbody tr th:only-of-type {\n",
       "        vertical-align: middle;\n",
       "    }\n",
       "\n",
       "    .dataframe tbody tr th {\n",
       "        vertical-align: top;\n",
       "    }\n",
       "\n",
       "    .dataframe thead th {\n",
       "        text-align: right;\n",
       "    }\n",
       "</style>\n",
       "<table border=\"1\" class=\"dataframe\">\n",
       "  <thead>\n",
       "    <tr style=\"text-align: right;\">\n",
       "      <th></th>\n",
       "      <th>Id_x</th>\n",
       "      <th>OwnerUserId_x</th>\n",
       "      <th>CreationDate_x</th>\n",
       "      <th>ClosedDate</th>\n",
       "      <th>Score_x</th>\n",
       "      <th>Title</th>\n",
       "      <th>Id_y</th>\n",
       "      <th>OwnerUserId_y</th>\n",
       "      <th>CreationDate_y</th>\n",
       "      <th>ParentId</th>\n",
       "      <th>Score_y</th>\n",
       "      <th>Id</th>\n",
       "      <th>Tag</th>\n",
       "      <th>id</th>\n",
       "      <th>reputation</th>\n",
       "      <th>up_votes</th>\n",
       "      <th>down_votes</th>\n",
       "      <th>views</th>\n",
       "    </tr>\n",
       "  </thead>\n",
       "  <tbody>\n",
       "    <tr>\n",
       "      <th>0</th>\n",
       "      <td>80</td>\n",
       "      <td>26</td>\n",
       "      <td>2008-08-01T13:57:07Z</td>\n",
       "      <td>NaN</td>\n",
       "      <td>26</td>\n",
       "      <td>SQLStatement.execute() - multiple queries in o...</td>\n",
       "      <td>124</td>\n",
       "      <td>26</td>\n",
       "      <td>2008-08-01T16:09:47Z</td>\n",
       "      <td>80</td>\n",
       "      <td>12</td>\n",
       "      <td>80</td>\n",
       "      <td>flex,actionscript-3,air</td>\n",
       "      <td>26</td>\n",
       "      <td>11820.0</td>\n",
       "      <td>565.0</td>\n",
       "      <td>67.0</td>\n",
       "      <td>3547.0</td>\n",
       "    </tr>\n",
       "    <tr>\n",
       "      <th>1</th>\n",
       "      <td>80</td>\n",
       "      <td>26</td>\n",
       "      <td>2008-08-01T13:57:07Z</td>\n",
       "      <td>NaN</td>\n",
       "      <td>26</td>\n",
       "      <td>SQLStatement.execute() - multiple queries in o...</td>\n",
       "      <td>10008</td>\n",
       "      <td>1109</td>\n",
       "      <td>2008-08-13T16:09:09Z</td>\n",
       "      <td>80</td>\n",
       "      <td>6</td>\n",
       "      <td>80</td>\n",
       "      <td>flex,actionscript-3,air</td>\n",
       "      <td>1109</td>\n",
       "      <td>116072.0</td>\n",
       "      <td>457.0</td>\n",
       "      <td>136.0</td>\n",
       "      <td>6905.0</td>\n",
       "    </tr>\n",
       "    <tr>\n",
       "      <th>2</th>\n",
       "      <td>80</td>\n",
       "      <td>26</td>\n",
       "      <td>2008-08-01T13:57:07Z</td>\n",
       "      <td>NaN</td>\n",
       "      <td>26</td>\n",
       "      <td>SQLStatement.execute() - multiple queries in o...</td>\n",
       "      <td>3770976</td>\n",
       "      <td>364174</td>\n",
       "      <td>2010-09-22T15:37:30Z</td>\n",
       "      <td>80</td>\n",
       "      <td>1</td>\n",
       "      <td>80</td>\n",
       "      <td>flex,actionscript-3,air</td>\n",
       "      <td>364174</td>\n",
       "      <td>325.0</td>\n",
       "      <td>25.0</td>\n",
       "      <td>1.0</td>\n",
       "      <td>60.0</td>\n",
       "    </tr>\n",
       "    <tr>\n",
       "      <th>3</th>\n",
       "      <td>90</td>\n",
       "      <td>58</td>\n",
       "      <td>2008-08-01T14:41:24Z</td>\n",
       "      <td>2012-12-26T03:45:49Z</td>\n",
       "      <td>144</td>\n",
       "      <td>Good branching and merging tutorials for Torto...</td>\n",
       "      <td>92</td>\n",
       "      <td>61</td>\n",
       "      <td>2008-08-01T14:45:37Z</td>\n",
       "      <td>90</td>\n",
       "      <td>13</td>\n",
       "      <td>90</td>\n",
       "      <td>svn,tortoisesvn,branch,branching-and-merging</td>\n",
       "      <td>61</td>\n",
       "      <td>22779.0</td>\n",
       "      <td>1321.0</td>\n",
       "      <td>219.0</td>\n",
       "      <td>1731.0</td>\n",
       "    </tr>\n",
       "    <tr>\n",
       "      <th>4</th>\n",
       "      <td>90</td>\n",
       "      <td>58</td>\n",
       "      <td>2008-08-01T14:41:24Z</td>\n",
       "      <td>2012-12-26T03:45:49Z</td>\n",
       "      <td>144</td>\n",
       "      <td>Good branching and merging tutorials for Torto...</td>\n",
       "      <td>202317</td>\n",
       "      <td>20709</td>\n",
       "      <td>2008-10-14T18:41:45Z</td>\n",
       "      <td>90</td>\n",
       "      <td>2</td>\n",
       "      <td>90</td>\n",
       "      <td>svn,tortoisesvn,branch,branching-and-merging</td>\n",
       "      <td>20709</td>\n",
       "      <td>978.0</td>\n",
       "      <td>73.0</td>\n",
       "      <td>2.0</td>\n",
       "      <td>96.0</td>\n",
       "    </tr>\n",
       "  </tbody>\n",
       "</table>\n",
       "</div>"
      ],
      "text/plain": [
       "  Id_x OwnerUserId_x        CreationDate_x  ... up_votes  down_votes   views\n",
       "0   80            26  2008-08-01T13:57:07Z  ...    565.0        67.0  3547.0\n",
       "1   80            26  2008-08-01T13:57:07Z  ...    457.0       136.0  6905.0\n",
       "2   80            26  2008-08-01T13:57:07Z  ...     25.0         1.0    60.0\n",
       "3   90            58  2008-08-01T14:41:24Z  ...   1321.0       219.0  1731.0\n",
       "4   90            58  2008-08-01T14:41:24Z  ...     73.0         2.0    96.0\n",
       "\n",
       "[5 rows x 18 columns]"
      ]
     },
     "execution_count": 22,
     "metadata": {
      "tags": []
     },
     "output_type": "execute_result"
    }
   ],
   "source": [
    "inp0 = dfQATU\n",
    "inp0.head()"
   ]
  },
  {
   "cell_type": "markdown",
   "metadata": {
    "colab_type": "text",
    "id": "9mto-YAf_J1q"
   },
   "source": [
    "#### Which tag has the average maximum and minimum time to get the answer?"
   ]
  },
  {
   "cell_type": "code",
   "execution_count": 0,
   "metadata": {
    "colab": {},
    "colab_type": "code",
    "id": "k8hPokIr_J1q"
   },
   "outputs": [],
   "source": [
    "# Extract the Creation date from CreationDate_x column.\n",
    "inp0['CreationDate_x']= inp0['CreationDate_x'].apply(lambda x: x.split(\"T\")[0])\n",
    "\n",
    "# Extract the Creation date from CreationDate_y column.\n",
    "inp0['CreationDate_y']= inp0['CreationDate_y'].apply(lambda x: x.split(\"T\")[0])\n",
    "\n",
    "# Convert the Creation date column into date type.\n",
    "inp0['CreationDate_x'] = pd.to_datetime(inp0['CreationDate_x'])\n",
    "inp0['CreationDate_y'] = pd.to_datetime(inp0['CreationDate_y'])"
   ]
  },
  {
   "cell_type": "code",
   "execution_count": 0,
   "metadata": {
    "colab": {
     "base_uri": "https://localhost:8080/",
     "height": 343
    },
    "colab_type": "code",
    "id": "pcVWEkXG_J1t",
    "outputId": "442fdf31-c5d4-421a-c98f-4c7b9b10ae3b"
   },
   "outputs": [
    {
     "data": {
      "text/html": [
       "<div>\n",
       "<style scoped>\n",
       "    .dataframe tbody tr th:only-of-type {\n",
       "        vertical-align: middle;\n",
       "    }\n",
       "\n",
       "    .dataframe tbody tr th {\n",
       "        vertical-align: top;\n",
       "    }\n",
       "\n",
       "    .dataframe thead th {\n",
       "        text-align: right;\n",
       "    }\n",
       "</style>\n",
       "<table border=\"1\" class=\"dataframe\">\n",
       "  <thead>\n",
       "    <tr style=\"text-align: right;\">\n",
       "      <th></th>\n",
       "      <th>Id_x</th>\n",
       "      <th>OwnerUserId_x</th>\n",
       "      <th>CreationDate_x</th>\n",
       "      <th>ClosedDate</th>\n",
       "      <th>Score_x</th>\n",
       "      <th>Title</th>\n",
       "      <th>Id_y</th>\n",
       "      <th>OwnerUserId_y</th>\n",
       "      <th>CreationDate_y</th>\n",
       "      <th>ParentId</th>\n",
       "      <th>Score_y</th>\n",
       "      <th>Id</th>\n",
       "      <th>Tag</th>\n",
       "      <th>id</th>\n",
       "      <th>reputation</th>\n",
       "      <th>up_votes</th>\n",
       "      <th>down_votes</th>\n",
       "      <th>views</th>\n",
       "      <th>time_diff_x</th>\n",
       "    </tr>\n",
       "  </thead>\n",
       "  <tbody>\n",
       "    <tr>\n",
       "      <th>0</th>\n",
       "      <td>80</td>\n",
       "      <td>26</td>\n",
       "      <td>2008-08-01</td>\n",
       "      <td>NaN</td>\n",
       "      <td>26</td>\n",
       "      <td>SQLStatement.execute() - multiple queries in o...</td>\n",
       "      <td>124</td>\n",
       "      <td>26</td>\n",
       "      <td>2008-08-01</td>\n",
       "      <td>80</td>\n",
       "      <td>12</td>\n",
       "      <td>80</td>\n",
       "      <td>flex,actionscript-3,air</td>\n",
       "      <td>26</td>\n",
       "      <td>11820.0</td>\n",
       "      <td>565.0</td>\n",
       "      <td>67.0</td>\n",
       "      <td>3547.0</td>\n",
       "      <td>0</td>\n",
       "    </tr>\n",
       "    <tr>\n",
       "      <th>1</th>\n",
       "      <td>80</td>\n",
       "      <td>26</td>\n",
       "      <td>2008-08-01</td>\n",
       "      <td>NaN</td>\n",
       "      <td>26</td>\n",
       "      <td>SQLStatement.execute() - multiple queries in o...</td>\n",
       "      <td>10008</td>\n",
       "      <td>1109</td>\n",
       "      <td>2008-08-13</td>\n",
       "      <td>80</td>\n",
       "      <td>6</td>\n",
       "      <td>80</td>\n",
       "      <td>flex,actionscript-3,air</td>\n",
       "      <td>1109</td>\n",
       "      <td>116072.0</td>\n",
       "      <td>457.0</td>\n",
       "      <td>136.0</td>\n",
       "      <td>6905.0</td>\n",
       "      <td>12</td>\n",
       "    </tr>\n",
       "    <tr>\n",
       "      <th>2</th>\n",
       "      <td>80</td>\n",
       "      <td>26</td>\n",
       "      <td>2008-08-01</td>\n",
       "      <td>NaN</td>\n",
       "      <td>26</td>\n",
       "      <td>SQLStatement.execute() - multiple queries in o...</td>\n",
       "      <td>3770976</td>\n",
       "      <td>364174</td>\n",
       "      <td>2010-09-22</td>\n",
       "      <td>80</td>\n",
       "      <td>1</td>\n",
       "      <td>80</td>\n",
       "      <td>flex,actionscript-3,air</td>\n",
       "      <td>364174</td>\n",
       "      <td>325.0</td>\n",
       "      <td>25.0</td>\n",
       "      <td>1.0</td>\n",
       "      <td>60.0</td>\n",
       "      <td>782</td>\n",
       "    </tr>\n",
       "    <tr>\n",
       "      <th>3</th>\n",
       "      <td>90</td>\n",
       "      <td>58</td>\n",
       "      <td>2008-08-01</td>\n",
       "      <td>2012-12-26T03:45:49Z</td>\n",
       "      <td>144</td>\n",
       "      <td>Good branching and merging tutorials for Torto...</td>\n",
       "      <td>92</td>\n",
       "      <td>61</td>\n",
       "      <td>2008-08-01</td>\n",
       "      <td>90</td>\n",
       "      <td>13</td>\n",
       "      <td>90</td>\n",
       "      <td>svn,tortoisesvn,branch,branching-and-merging</td>\n",
       "      <td>61</td>\n",
       "      <td>22779.0</td>\n",
       "      <td>1321.0</td>\n",
       "      <td>219.0</td>\n",
       "      <td>1731.0</td>\n",
       "      <td>0</td>\n",
       "    </tr>\n",
       "    <tr>\n",
       "      <th>4</th>\n",
       "      <td>90</td>\n",
       "      <td>58</td>\n",
       "      <td>2008-08-01</td>\n",
       "      <td>2012-12-26T03:45:49Z</td>\n",
       "      <td>144</td>\n",
       "      <td>Good branching and merging tutorials for Torto...</td>\n",
       "      <td>202317</td>\n",
       "      <td>20709</td>\n",
       "      <td>2008-10-14</td>\n",
       "      <td>90</td>\n",
       "      <td>2</td>\n",
       "      <td>90</td>\n",
       "      <td>svn,tortoisesvn,branch,branching-and-merging</td>\n",
       "      <td>20709</td>\n",
       "      <td>978.0</td>\n",
       "      <td>73.0</td>\n",
       "      <td>2.0</td>\n",
       "      <td>96.0</td>\n",
       "      <td>74</td>\n",
       "    </tr>\n",
       "  </tbody>\n",
       "</table>\n",
       "</div>"
      ],
      "text/plain": [
       "  Id_x OwnerUserId_x CreationDate_x  ... down_votes   views time_diff_x\n",
       "0   80            26     2008-08-01  ...       67.0  3547.0           0\n",
       "1   80            26     2008-08-01  ...      136.0  6905.0          12\n",
       "2   80            26     2008-08-01  ...        1.0    60.0         782\n",
       "3   90            58     2008-08-01  ...      219.0  1731.0           0\n",
       "4   90            58     2008-08-01  ...        2.0    96.0          74\n",
       "\n",
       "[5 rows x 19 columns]"
      ]
     },
     "execution_count": 24,
     "metadata": {
      "tags": []
     },
     "output_type": "execute_result"
    }
   ],
   "source": [
    "# Calculating the time difference between creation date of question and creation date of answer.\n",
    "# Followed by convertion into integer type\n",
    "\n",
    "inp0['time_diff_x'] = inp0['CreationDate_y'] - inp0['CreationDate_x']\n",
    "inp0[\"time_diff_x\"]= inp0[\"time_diff_x\"].astype(str) \n",
    "inp0['time_diff_x']= inp0['time_diff_x'].apply(lambda x: x.split(\" \")[0])\n",
    "inp0[\"time_diff_x\"]= inp0[\"time_diff_x\"].astype(int)\n",
    "inp0.head()"
   ]
  },
  {
   "cell_type": "code",
   "execution_count": 0,
   "metadata": {
    "colab": {},
    "colab_type": "code",
    "id": "l232o6O6_J1v"
   },
   "outputs": [],
   "source": [
    "# To avoid any repition of tags, let us consider the minimum time required to answer any particular answer\n",
    "inp1 = inp0.loc[inp0.groupby(\"Id_x\")[\"time_diff_x\"].idxmin()]"
   ]
  },
  {
   "cell_type": "code",
   "execution_count": 0,
   "metadata": {
    "colab": {
     "base_uri": "https://localhost:8080/",
     "height": 204
    },
    "colab_type": "code",
    "id": "99Bsqocf_J1w",
    "outputId": "de28ae81-c97f-4e89-cc92-8ddd49de0458"
   },
   "outputs": [
    {
     "data": {
      "text/html": [
       "<div>\n",
       "<style scoped>\n",
       "    .dataframe tbody tr th:only-of-type {\n",
       "        vertical-align: middle;\n",
       "    }\n",
       "\n",
       "    .dataframe tbody tr th {\n",
       "        vertical-align: top;\n",
       "    }\n",
       "\n",
       "    .dataframe thead th {\n",
       "        text-align: right;\n",
       "    }\n",
       "</style>\n",
       "<table border=\"1\" class=\"dataframe\">\n",
       "  <thead>\n",
       "    <tr style=\"text-align: right;\">\n",
       "      <th></th>\n",
       "      <th>Tag</th>\n",
       "      <th>time_diff_x</th>\n",
       "    </tr>\n",
       "  </thead>\n",
       "  <tbody>\n",
       "    <tr>\n",
       "      <th>0</th>\n",
       "      <td>jquery,google-apps-script</td>\n",
       "      <td>1</td>\n",
       "    </tr>\n",
       "    <tr>\n",
       "      <th>1</th>\n",
       "      <td>ios,uikit,interface-builder</td>\n",
       "      <td>0</td>\n",
       "    </tr>\n",
       "    <tr>\n",
       "      <th>2</th>\n",
       "      <td>r</td>\n",
       "      <td>0</td>\n",
       "    </tr>\n",
       "    <tr>\n",
       "      <th>3</th>\n",
       "      <td>c++,arrays,deque</td>\n",
       "      <td>0</td>\n",
       "    </tr>\n",
       "    <tr>\n",
       "      <th>4</th>\n",
       "      <td>python,input,validation</td>\n",
       "      <td>0</td>\n",
       "    </tr>\n",
       "  </tbody>\n",
       "</table>\n",
       "</div>"
      ],
      "text/plain": [
       "                           Tag  time_diff_x\n",
       "0    jquery,google-apps-script            1\n",
       "1  ios,uikit,interface-builder            0\n",
       "2                            r            0\n",
       "3             c++,arrays,deque            0\n",
       "4      python,input,validation            0"
      ]
     },
     "execution_count": 26,
     "metadata": {
      "tags": []
     },
     "output_type": "execute_result"
    }
   ],
   "source": [
    "tag_time = inp1[['Tag', 'time_diff_x']].drop_duplicates().reset_index(drop=True)\n",
    "tag_time.head()"
   ]
  },
  {
   "cell_type": "code",
   "execution_count": 0,
   "metadata": {
    "colab": {
     "base_uri": "https://localhost:8080/",
     "height": 66,
     "referenced_widgets": [
      "675e0a0b6902478ca25c7b49e4a2450e",
      "af297e67759d47439bee2f8f42299f8d",
      "395a83a0ffa24e6bb1cb53ffee8900ff",
      "d051c12f48be4dab9511b6c93a562bf7",
      "fa41d86ff991449b9230644737a54680",
      "ca1b3cdb69ab4b379a19304ba7a8861b",
      "8dac5f1adddd4f718dfaac4052cb52a2",
      "62814be7aa324dd29fcd73ba486206f0"
     ]
    },
    "colab_type": "code",
    "id": "oCM1Au6o_J1y",
    "outputId": "702148c3-a92b-41f5-f54a-3a58cdf64e48"
   },
   "outputs": [
    {
     "data": {
      "application/vnd.jupyter.widget-view+json": {
       "model_id": "675e0a0b6902478ca25c7b49e4a2450e",
       "version_major": 2,
       "version_minor": 0
      },
      "text/plain": [
       "HBox(children=(IntProgress(value=0, max=645282), HTML(value='')))"
      ]
     },
     "metadata": {
      "tags": []
     },
     "output_type": "display_data"
    },
    {
     "name": "stdout",
     "output_type": "stream",
     "text": [
      "\n"
     ]
    }
   ],
   "source": [
    "tagTime = {}\n",
    "tag_time = tag_time.dropna().reset_index()\n",
    "\n",
    "for i in tqdm_notebook(range(len(tag_time['Tag']))):\n",
    "    for tag in tag_time['Tag'][i].split(','):\n",
    "        try:\n",
    "            tagTime[tag].append(tag_time['time_diff_x'][i])\n",
    "        except Exception:\n",
    "            tagTime[tag] = [tag_time['time_diff_x'][i]]"
   ]
  },
  {
   "cell_type": "code",
   "execution_count": 0,
   "metadata": {
    "colab": {},
    "colab_type": "code",
    "id": "nsG317no_J10"
   },
   "outputs": [],
   "source": [
    "tagTimeAvg = {}\n",
    "for key in list(tagTime.keys()):\n",
    "    tagTimeAvg[key] = np.average(tagTime[key])"
   ]
  },
  {
   "cell_type": "markdown",
   "metadata": {
    "colab_type": "text",
    "id": "RjtKEx0Y_J13"
   },
   "source": [
    "#### What would be the expected time for your question to be answered given the tag is 'excel'"
   ]
  },
  {
   "cell_type": "code",
   "execution_count": 0,
   "metadata": {
    "colab": {
     "base_uri": "https://localhost:8080/",
     "height": 34
    },
    "colab_type": "code",
    "id": "snZ4D9sZ_J14",
    "outputId": "8127f542-294d-4bc1-c122-2f8cb915a783"
   },
   "outputs": [
    {
     "name": "stdout",
     "output_type": "stream",
     "text": [
      "My question is expected to be answered within  19.903372835004557  days\n"
     ]
    }
   ],
   "source": [
    "print('My question is expected to be answered within ', tagTimeAvg['excel'], ' days')"
   ]
  },
  {
   "cell_type": "code",
   "execution_count": 0,
   "metadata": {
    "colab": {},
    "colab_type": "code",
    "id": "fdM7YUBH_J16"
   },
   "outputs": [],
   "source": [
    "tagTimeAvg = pd.DataFrame([list(tagTimeAvg.keys()), list(tagTimeAvg.values())])\n",
    "\n",
    "tagTimeAvg = tagTimeAvg.transpose()\n",
    "tagTimeAvg.columns = ['Tag', 'time_diff_x']\n",
    "tagTimeAvg = tagTimeAvg.sort_values('time_diff_x')"
   ]
  },
  {
   "cell_type": "code",
   "execution_count": 0,
   "metadata": {
    "colab": {
     "base_uri": "https://localhost:8080/",
     "height": 282
    },
    "colab_type": "code",
    "id": "frmG8tjX_J18",
    "outputId": "8b7c75ff-7f6b-4d32-b0db-e0a2d26a5c6d"
   },
   "outputs": [
    {
     "data": {
      "text/plain": [
       "<matplotlib.axes._subplots.AxesSubplot at 0x7f92a64e63c8>"
      ]
     },
     "execution_count": 31,
     "metadata": {
      "tags": []
     },
     "output_type": "execute_result"
    },
    {
     "data": {
      "image/png": "[encoded data removed]",
      "text/plain": [
       "<Figure size 432x288 with 1 Axes>"
      ]
     },
     "metadata": {
      "tags": []
     },
     "output_type": "display_data"
    }
   ],
   "source": [
    "# Top 20 tags with highest average time to answer\n",
    "\n",
    "highest_tag_time= tagTimeAvg.tail(20)\n",
    "highest_tag_time.plot.barh(x='Tag', y='time_diff_x', rot=0)"
   ]
  },
  {
   "cell_type": "markdown",
   "metadata": {
    "colab_type": "text",
    "id": "RVzZyrut_J1-"
   },
   "source": [
    "#### Corresponding expected answer time for data science tags"
   ]
  },
  {
   "cell_type": "code",
   "execution_count": 0,
   "metadata": {
    "colab": {
     "base_uri": "https://localhost:8080/",
     "height": 51
    },
    "colab_type": "code",
    "id": "FG2ddVAV_J1_",
    "outputId": "861e5a80-74de-4e5b-fb56-efd4a0476df8"
   },
   "outputs": [
    {
     "name": "stdout",
     "output_type": "stream",
     "text": [
      "['python', 'r', 'matlab', 'sas', 'excel', 'sql']\n",
      "[15.619264209907485, 16.54947492974412, 13.526236881559221, 9.231023102310232, 19.903372835004557, 8.330789825970548]\n"
     ]
    }
   ],
   "source": [
    "data_science = ['python', 'r', 'matlab', 'sas', 'excel', 'sql']\n",
    "x = []\n",
    "y = []\n",
    "\n",
    "for tag in data_science:\n",
    "    index = list(tagTimeAvg['Tag']).index(tag)\n",
    "    x.append(tag)\n",
    "    y.append(list(tagTimeAvg['time_diff_x'])[index])\n",
    "    \n",
    "print(x)\n",
    "print(y)"
   ]
  },
  {
   "cell_type": "code",
   "execution_count": 0,
   "metadata": {
    "colab": {
     "base_uri": "https://localhost:8080/",
     "height": 296
    },
    "colab_type": "code",
    "id": "J2PD607X_J2B",
    "outputId": "5fc713ad-2767-4e01-9bed-74c214f18392"
   },
   "outputs": [
    {
     "data": {
      "text/plain": [
       "<matplotlib.axes._subplots.AxesSubplot at 0x7f92a6508748>"
      ]
     },
     "execution_count": 33,
     "metadata": {
      "tags": []
     },
     "output_type": "execute_result"
    },
    {
     "data": {
      "image/png": "[encoded data removed]",
      "text/plain": [
       "<Figure size 432x288 with 1 Axes>"
      ]
     },
     "metadata": {
      "tags": []
     },
     "output_type": "display_data"
    }
   ],
   "source": [
    "DS_time_diff_df = pd.DataFrame(list(zip(x, y)), columns =['DS Tag', 'time_diff'])\n",
    "DS_time_diff_df.plot.bar(x='DS Tag', y='time_diff', rot=0)"
   ]
  },
  {
   "cell_type": "code",
   "execution_count": 0,
   "metadata": {
    "colab": {
     "base_uri": "https://localhost:8080/",
     "height": 235
    },
    "colab_type": "code",
    "id": "pds3Dcwm_J2C",
    "outputId": "1cf13c80-1c59-4005-b773-1f5dbab2b79a"
   },
   "outputs": [
    {
     "data": {
      "text/html": [
       "<div>\n",
       "<style scoped>\n",
       "    .dataframe tbody tr th:only-of-type {\n",
       "        vertical-align: middle;\n",
       "    }\n",
       "\n",
       "    .dataframe tbody tr th {\n",
       "        vertical-align: top;\n",
       "    }\n",
       "\n",
       "    .dataframe thead th {\n",
       "        text-align: right;\n",
       "    }\n",
       "</style>\n",
       "<table border=\"1\" class=\"dataframe\">\n",
       "  <thead>\n",
       "    <tr style=\"text-align: right;\">\n",
       "      <th></th>\n",
       "      <th>DS Tag</th>\n",
       "      <th>time_diff</th>\n",
       "    </tr>\n",
       "  </thead>\n",
       "  <tbody>\n",
       "    <tr>\n",
       "      <th>0</th>\n",
       "      <td>python</td>\n",
       "      <td>15.619264</td>\n",
       "    </tr>\n",
       "    <tr>\n",
       "      <th>1</th>\n",
       "      <td>r</td>\n",
       "      <td>16.549475</td>\n",
       "    </tr>\n",
       "    <tr>\n",
       "      <th>2</th>\n",
       "      <td>matlab</td>\n",
       "      <td>13.526237</td>\n",
       "    </tr>\n",
       "    <tr>\n",
       "      <th>3</th>\n",
       "      <td>sas</td>\n",
       "      <td>9.231023</td>\n",
       "    </tr>\n",
       "    <tr>\n",
       "      <th>4</th>\n",
       "      <td>excel</td>\n",
       "      <td>19.903373</td>\n",
       "    </tr>\n",
       "    <tr>\n",
       "      <th>5</th>\n",
       "      <td>sql</td>\n",
       "      <td>8.330790</td>\n",
       "    </tr>\n",
       "  </tbody>\n",
       "</table>\n",
       "</div>"
      ],
      "text/plain": [
       "   DS Tag  time_diff\n",
       "0  python  15.619264\n",
       "1       r  16.549475\n",
       "2  matlab  13.526237\n",
       "3     sas   9.231023\n",
       "4   excel  19.903373\n",
       "5     sql   8.330790"
      ]
     },
     "execution_count": 34,
     "metadata": {
      "tags": []
     },
     "output_type": "execute_result"
    }
   ],
   "source": [
    "DS_time_diff_df"
   ]
  },
  {
   "cell_type": "markdown",
   "metadata": {
    "colab_type": "text",
    "id": "fjOX1cis_J2F"
   },
   "source": [
    "#### Should you have more tags for a question to be anwered quickly?"
   ]
  },
  {
   "cell_type": "code",
   "execution_count": 0,
   "metadata": {
    "colab": {
     "base_uri": "https://localhost:8080/",
     "height": 297
    },
    "colab_type": "code",
    "id": "XSmPH0RD_J2G",
    "outputId": "910861d0-96c3-45fd-9376-1990ce11bfcf"
   },
   "outputs": [
    {
     "data": {
      "text/plain": [
       "<matplotlib.axes._subplots.AxesSubplot at 0x7f92a6496f28>"
      ]
     },
     "execution_count": 35,
     "metadata": {
      "tags": []
     },
     "output_type": "execute_result"
    },
    {
     "data": {
      "image/png": "[encoded data removed]",
      "text/plain": [
       "<Figure size 432x288 with 1 Axes>"
      ]
     },
     "metadata": {
      "tags": []
     },
     "output_type": "display_data"
    }
   ],
   "source": [
    "tag_time['tag_count'] = [len(tags.split(',')) for tags in tag_time['Tag']]\n",
    "\n",
    "tag_time_grouped = tag_time.groupby('tag_count').mean()\n",
    "tag_time_grouped.reset_index(inplace=True)\n",
    "sns.barplot(x='tag_count', y='time_diff_x', data = tag_time_grouped)"
   ]
  },
  {
   "cell_type": "markdown",
   "metadata": {
    "colab_type": "text",
    "id": "Ch4GtqQ7_J2I"
   },
   "source": [
    "#### What are the most popular tags?"
   ]
  },
  {
   "cell_type": "code",
   "execution_count": 0,
   "metadata": {
    "colab": {
     "base_uri": "https://localhost:8080/",
     "height": 34
    },
    "colab_type": "code",
    "id": "uapbbfrP_J2I",
    "outputId": "212b48d6-b4ec-4bea-c8e1-8c39f63e0672"
   },
   "outputs": [
    {
     "name": "stdout",
     "output_type": "stream",
     "text": [
      "Number of tags are  37035\n"
     ]
    }
   ],
   "source": [
    "tags = list(inp1['Tag'].unique())\n",
    "all_tags = list(dfT['Tag'].unique())\n",
    "print('Number of tags are ', len(all_tags))"
   ]
  },
  {
   "cell_type": "code",
   "execution_count": 0,
   "metadata": {
    "colab": {},
    "colab_type": "code",
    "id": "CSqAA2Mr_J2K"
   },
   "outputs": [],
   "source": [
    "count_tags = Counter(list(dfT['Tag'])) # Using dfT (Tags Dataframe) to find the overall frequency of each tag\n",
    "tags = pd.DataFrame([list(count_tags.keys()), list(count_tags.values())])\n",
    "tags = tags.transpose()\n",
    "tags.columns = ['tag', 'count']\n",
    "tags = tags.sort_values(by='count', ascending=False)"
   ]
  },
  {
   "cell_type": "markdown",
   "metadata": {
    "colab_type": "text",
    "id": "4OtbYOB9_J2M"
   },
   "source": [
    "#### Creating a bar chart of the top 20 most popular tags"
   ]
  },
  {
   "cell_type": "code",
   "execution_count": 0,
   "metadata": {
    "colab": {
     "base_uri": "https://localhost:8080/",
     "height": 282
    },
    "colab_type": "code",
    "id": "nvAxRvpc_J2M",
    "outputId": "9dfda9eb-8579-46ab-a5c1-2a4bd0c6e192"
   },
   "outputs": [
    {
     "data": {
      "text/plain": [
       "<matplotlib.axes._subplots.AxesSubplot at 0x7f92a64a9048>"
      ]
     },
     "execution_count": 38,
     "metadata": {
      "tags": []
     },
     "output_type": "execute_result"
    },
    {
     "data": {
      "image/png": "[encoded data removed]",
      "text/plain": [
       "<Figure size 432x288 with 1 Axes>"
      ]
     },
     "metadata": {
      "tags": []
     },
     "output_type": "display_data"
    }
   ],
   "source": [
    "Tags_df= tags.head(20)\n",
    "Tags_df.plot.barh(x='tag', y='count', rot=0)"
   ]
  },
  {
   "cell_type": "markdown",
   "metadata": {
    "colab_type": "text",
    "id": "y81hAr2I_J2X"
   },
   "source": [
    "#### How popular are some of the data science tags?"
   ]
  },
  {
   "cell_type": "code",
   "execution_count": 0,
   "metadata": {
    "colab": {
     "base_uri": "https://localhost:8080/",
     "height": 51
    },
    "colab_type": "code",
    "id": "HoZWA4Wj_J2X",
    "outputId": "cacaa8d3-ddd3-4b12-bc76-fc25290b10df"
   },
   "outputs": [
    {
     "name": "stdout",
     "output_type": "stream",
     "text": [
      "['python', 'r', 'matlab', 'sas', 'excel', 'sql']\n",
      "[64601, 15701, 6495, 697, 10384, 35782]\n"
     ]
    }
   ],
   "source": [
    "data_science = ['python', 'r', 'matlab', 'sas', 'excel', 'sql']\n",
    "x = []\n",
    "y = []\n",
    "\n",
    "for tag in data_science:\n",
    "    index = list(tags['tag']).index(tag)\n",
    "    x.append(tag)\n",
    "    y.append(list(tags['count'])[index])\n",
    "    \n",
    "print(x)\n",
    "print(y)"
   ]
  },
  {
   "cell_type": "code",
   "execution_count": 0,
   "metadata": {
    "colab": {
     "base_uri": "https://localhost:8080/",
     "height": 296
    },
    "colab_type": "code",
    "id": "cLs5sFlQ_J2Z",
    "outputId": "d23401f7-4fe4-405f-825c-649804ba3871"
   },
   "outputs": [
    {
     "data": {
      "text/plain": [
       "<matplotlib.axes._subplots.AxesSubplot at 0x7f92a64cb470>"
      ]
     },
     "execution_count": 40,
     "metadata": {
      "tags": []
     },
     "output_type": "execute_result"
    },
    {
     "data": {
      "image/png": "[encoded data removed]",
      "text/plain": [
       "<Figure size 432x288 with 1 Axes>"
      ]
     },
     "metadata": {
      "tags": []
     },
     "output_type": "display_data"
    }
   ],
   "source": [
    "DS_Tags_df = pd.DataFrame(list(zip(x, y)), columns =['Tag', 'Values'])\n",
    "DS_Tags_df.plot.bar(x='Tag', y='Values', rot=0)"
   ]
  },
  {
   "cell_type": "markdown",
   "metadata": {
    "colab_type": "text",
    "id": "0_Qj963U_J2a"
   },
   "source": [
    "#### What are the most popular tags amongst reputed users?"
   ]
  },
  {
   "cell_type": "code",
   "execution_count": 0,
   "metadata": {
    "colab": {
     "base_uri": "https://localhost:8080/",
     "height": 296
    },
    "colab_type": "code",
    "id": "zcKbf6FU_J2b",
    "outputId": "63d392e5-8d52-4161-e28a-2a428687180a"
   },
   "outputs": [
    {
     "data": {
      "text/plain": [
       "<matplotlib.axes._subplots.AxesSubplot at 0x7f92a64c97f0>"
      ]
     },
     "execution_count": 41,
     "metadata": {
      "tags": []
     },
     "output_type": "execute_result"
    },
    {
     "data": {
      "image/png": "[encoded data removed]",
      "text/plain": [
       "<Figure size 432x288 with 1 Axes>"
      ]
     },
     "metadata": {
      "tags": []
     },
     "output_type": "display_data"
    }
   ],
   "source": [
    "# First let us set a threshold to classify any user as reputed or not\n",
    "sns.boxplot(inp0['reputation']) # Creating a boxplot of the reputation of all users"
   ]
  },
  {
   "cell_type": "code",
   "execution_count": 0,
   "metadata": {
    "colab": {
     "base_uri": "https://localhost:8080/",
     "height": 221
    },
    "colab_type": "code",
    "id": "Bpda18Zm_J2c",
    "outputId": "e38e6949-06b2-4cc6-b070-aed06a919f2c"
   },
   "outputs": [
    {
     "data": {
      "text/plain": [
       "0.010          1.0\n",
       "0.100        143.0\n",
       "0.200        600.0\n",
       "0.300       1371.0\n",
       "0.500       5014.0\n",
       "0.700      18911.0\n",
       "0.900     110691.0\n",
       "0.950     236842.0\n",
       "0.990     714584.0\n",
       "0.999    1128126.0\n",
       "1.000    1128126.0\n",
       "Name: reputation, dtype: float64"
      ]
     },
     "execution_count": 42,
     "metadata": {
      "tags": []
     },
     "output_type": "execute_result"
    }
   ],
   "source": [
    "inp0.reputation.quantile([0.01, 0.1, 0.2, 0.3, 0.5, 0.7, 0.9, 0.95, 0.99, 0.999, 1])"
   ]
  },
  {
   "cell_type": "code",
   "execution_count": 0,
   "metadata": {
    "colab": {
     "base_uri": "https://localhost:8080/",
     "height": 34
    },
    "colab_type": "code",
    "id": "ylxIVJeS_J2f",
    "outputId": "1c873c91-86ed-454e-8a44-8a3b985079d1"
   },
   "outputs": [
    {
     "data": {
      "text/plain": [
       "(19044, 19)"
      ]
     },
     "execution_count": 43,
     "metadata": {
      "tags": []
     },
     "output_type": "execute_result"
    }
   ],
   "source": [
    "inp0[inp0['reputation'] > inp0['reputation'].quantile(0.99)].shape"
   ]
  },
  {
   "cell_type": "code",
   "execution_count": 0,
   "metadata": {
    "colab": {
     "base_uri": "https://localhost:8080/",
     "height": 204
    },
    "colab_type": "code",
    "id": "gcX_-Gav_J2i",
    "outputId": "7c80302b-3c99-41f6-e9db-31c6c6259685"
   },
   "outputs": [
    {
     "data": {
      "text/html": [
       "<div>\n",
       "<style scoped>\n",
       "    .dataframe tbody tr th:only-of-type {\n",
       "        vertical-align: middle;\n",
       "    }\n",
       "\n",
       "    .dataframe tbody tr th {\n",
       "        vertical-align: top;\n",
       "    }\n",
       "\n",
       "    .dataframe thead th {\n",
       "        text-align: right;\n",
       "    }\n",
       "</style>\n",
       "<table border=\"1\" class=\"dataframe\">\n",
       "  <thead>\n",
       "    <tr style=\"text-align: right;\">\n",
       "      <th></th>\n",
       "      <th>tag</th>\n",
       "      <th>count</th>\n",
       "    </tr>\n",
       "  </thead>\n",
       "  <tbody>\n",
       "    <tr>\n",
       "      <th>21</th>\n",
       "      <td>c#</td>\n",
       "      <td>4289</td>\n",
       "    </tr>\n",
       "    <tr>\n",
       "      <th>224</th>\n",
       "      <td>sql</td>\n",
       "      <td>2434</td>\n",
       "    </tr>\n",
       "    <tr>\n",
       "      <th>42</th>\n",
       "      <td>java</td>\n",
       "      <td>2183</td>\n",
       "    </tr>\n",
       "    <tr>\n",
       "      <th>486</th>\n",
       "      <td>android</td>\n",
       "      <td>1885</td>\n",
       "    </tr>\n",
       "    <tr>\n",
       "      <th>179</th>\n",
       "      <td>python</td>\n",
       "      <td>1630</td>\n",
       "    </tr>\n",
       "  </tbody>\n",
       "</table>\n",
       "</div>"
      ],
      "text/plain": [
       "         tag count\n",
       "21        c#  4289\n",
       "224      sql  2434\n",
       "42      java  2183\n",
       "486  android  1885\n",
       "179   python  1630"
      ]
     },
     "execution_count": 44,
     "metadata": {
      "tags": []
     },
     "output_type": "execute_result"
    }
   ],
   "source": [
    "# Hence we will be filtering out within the top 19044 users\n",
    "# So we shall consider those users whose reputation lie in the top 99 percentile\n",
    "\n",
    "inp1 = inp0[inp0['reputation'] > inp0['reputation'].quantile(0.99)]\n",
    "\n",
    "reputed_users_tags = inp1['Tag'].str.cat(sep=',')\n",
    "reputed_users_tags_dict = Counter(reputed_users_tags.split(','))\n",
    "\n",
    "reputed_users_tags_df = pd.DataFrame([list(reputed_users_tags_dict.keys()), list(reputed_users_tags_dict.values())])\n",
    "reputed_users_tags_df = reputed_users_tags_df.transpose()\n",
    "reputed_users_tags_df.columns = ['tag', 'count']\n",
    "reputed_users_tags_df = reputed_users_tags_df.sort_values(by='count', ascending=False)\n",
    "reputed_users_tags_df.head()"
   ]
  },
  {
   "cell_type": "markdown",
   "metadata": {
    "colab_type": "text",
    "id": "d5gOHSHl_J2k"
   },
   "source": [
    "#### What are the most popular tags amongst the closed questions"
   ]
  },
  {
   "cell_type": "code",
   "execution_count": 0,
   "metadata": {
    "colab": {},
    "colab_type": "code",
    "id": "DWhMkdah_J2k"
   },
   "outputs": [],
   "source": [
    "inp1 = inp0.dropna(subset = ['ClosedDate'])\n",
    "Questions_closed_date_tags = inp1['Tag'].str.cat(sep=',')\n",
    "Questions_closed_date_tags_dict = Counter(Questions_closed_date_tags.split(','))"
   ]
  },
  {
   "cell_type": "code",
   "execution_count": 0,
   "metadata": {
    "colab": {
     "base_uri": "https://localhost:8080/",
     "height": 204
    },
    "colab_type": "code",
    "id": "Ieb-5wiW_J2m",
    "outputId": "c9a441b9-168f-48a7-c5ce-9aa5a5220dcc"
   },
   "outputs": [
    {
     "data": {
      "text/html": [
       "<div>\n",
       "<style scoped>\n",
       "    .dataframe tbody tr th:only-of-type {\n",
       "        vertical-align: middle;\n",
       "    }\n",
       "\n",
       "    .dataframe tbody tr th {\n",
       "        vertical-align: top;\n",
       "    }\n",
       "\n",
       "    .dataframe thead th {\n",
       "        text-align: right;\n",
       "    }\n",
       "</style>\n",
       "<table border=\"1\" class=\"dataframe\">\n",
       "  <thead>\n",
       "    <tr style=\"text-align: right;\">\n",
       "      <th></th>\n",
       "      <th>tag</th>\n",
       "      <th>count</th>\n",
       "    </tr>\n",
       "  </thead>\n",
       "  <tbody>\n",
       "    <tr>\n",
       "      <th>15</th>\n",
       "      <td>java</td>\n",
       "      <td>14222</td>\n",
       "    </tr>\n",
       "    <tr>\n",
       "      <th>85</th>\n",
       "      <td>php</td>\n",
       "      <td>12441</td>\n",
       "    </tr>\n",
       "    <tr>\n",
       "      <th>89</th>\n",
       "      <td>javascript</td>\n",
       "      <td>10753</td>\n",
       "    </tr>\n",
       "    <tr>\n",
       "      <th>33</th>\n",
       "      <td>c#</td>\n",
       "      <td>9167</td>\n",
       "    </tr>\n",
       "    <tr>\n",
       "      <th>72</th>\n",
       "      <td>c++</td>\n",
       "      <td>6876</td>\n",
       "    </tr>\n",
       "  </tbody>\n",
       "</table>\n",
       "</div>"
      ],
      "text/plain": [
       "           tag  count\n",
       "15        java  14222\n",
       "85         php  12441\n",
       "89  javascript  10753\n",
       "33          c#   9167\n",
       "72         c++   6876"
      ]
     },
     "execution_count": 46,
     "metadata": {
      "tags": []
     },
     "output_type": "execute_result"
    }
   ],
   "source": [
    "Questions_closed_date_tags_df = pd.DataFrame([list(Questions_closed_date_tags_dict.keys()), list(Questions_closed_date_tags_dict.values())])\n",
    "Questions_closed_date_tags_df = Questions_closed_date_tags_df.transpose()\n",
    "Questions_closed_date_tags_df.columns = ['tag', 'count']\n",
    "Questions_closed_date_tags_df = Questions_closed_date_tags_df.sort_values(by='count', ascending=False)\n",
    "Questions_closed_date_tags_df.head()"
   ]
  },
  {
   "cell_type": "markdown",
   "metadata": {
    "colab_type": "text",
    "id": "4gnzJp85_J2o"
   },
   "source": [
    "#### Which tags have the highest scores?"
   ]
  },
  {
   "cell_type": "code",
   "execution_count": 0,
   "metadata": {
    "colab": {
     "base_uri": "https://localhost:8080/",
     "height": 204
    },
    "colab_type": "code",
    "id": "EkYqM-aB_J2p",
    "outputId": "ba7376e9-91e1-4869-dd66-671a678a3fa4"
   },
   "outputs": [
    {
     "data": {
      "text/html": [
       "<div>\n",
       "<style scoped>\n",
       "    .dataframe tbody tr th:only-of-type {\n",
       "        vertical-align: middle;\n",
       "    }\n",
       "\n",
       "    .dataframe tbody tr th {\n",
       "        vertical-align: top;\n",
       "    }\n",
       "\n",
       "    .dataframe thead th {\n",
       "        text-align: right;\n",
       "    }\n",
       "</style>\n",
       "<table border=\"1\" class=\"dataframe\">\n",
       "  <thead>\n",
       "    <tr style=\"text-align: right;\">\n",
       "      <th></th>\n",
       "      <th>Id_x</th>\n",
       "      <th>Tag</th>\n",
       "      <th>Score_x</th>\n",
       "    </tr>\n",
       "  </thead>\n",
       "  <tbody>\n",
       "    <tr>\n",
       "      <th>0</th>\n",
       "      <td>80</td>\n",
       "      <td>flex,actionscript-3,air</td>\n",
       "      <td>26</td>\n",
       "    </tr>\n",
       "    <tr>\n",
       "      <th>1</th>\n",
       "      <td>90</td>\n",
       "      <td>svn,tortoisesvn,branch,branching-and-merging</td>\n",
       "      <td>144</td>\n",
       "    </tr>\n",
       "    <tr>\n",
       "      <th>2</th>\n",
       "      <td>120</td>\n",
       "      <td>sql,asp.net,sitemap</td>\n",
       "      <td>21</td>\n",
       "    </tr>\n",
       "    <tr>\n",
       "      <th>3</th>\n",
       "      <td>180</td>\n",
       "      <td>algorithm,language-agnostic,colors,color-space</td>\n",
       "      <td>53</td>\n",
       "    </tr>\n",
       "    <tr>\n",
       "      <th>4</th>\n",
       "      <td>260</td>\n",
       "      <td>c#,.net,scripting,compiler-construction</td>\n",
       "      <td>49</td>\n",
       "    </tr>\n",
       "  </tbody>\n",
       "</table>\n",
       "</div>"
      ],
      "text/plain": [
       "  Id_x                                             Tag  Score_x\n",
       "0   80                         flex,actionscript-3,air       26\n",
       "1   90    svn,tortoisesvn,branch,branching-and-merging      144\n",
       "2  120                             sql,asp.net,sitemap       21\n",
       "3  180  algorithm,language-agnostic,colors,color-space       53\n",
       "4  260         c#,.net,scripting,compiler-construction       49"
      ]
     },
     "execution_count": 47,
     "metadata": {
      "tags": []
     },
     "output_type": "execute_result"
    }
   ],
   "source": [
    "tag_scores = inp0[['Id_x', 'Tag', 'Score_x']].drop_duplicates().reset_index(drop=True)\n",
    "tag_scores = tag_scores.dropna(axis = 0, how = 'any', inplace = False).reset_index(drop=True) # Removing any nan values\n",
    "tag_scores.head()"
   ]
  },
  {
   "cell_type": "code",
   "execution_count": 0,
   "metadata": {
    "colab": {
     "base_uri": "https://localhost:8080/",
     "height": 66,
     "referenced_widgets": [
      "0a78cc86c54d442eb7b99adf590aead6",
      "045d12747527414ebfe09b10fb527c59",
      "1faa048551b74833a43159f3227927e7",
      "ed889474c6664fa4acc403fc18a2186b",
      "e39e26ce418a4b1fa6ba63055647e40a",
      "a8351d5c64a4417ea6eb00f2dfe59155",
      "491c9ad147f94088827280998e3de74a",
      "7d2a316af8554d36a9ab5cca57e331a5"
     ]
    },
    "colab_type": "code",
    "id": "2f1Kf4b__J2r",
    "outputId": "03220252-250b-4b57-d90f-23a0c9b9467b"
   },
   "outputs": [
    {
     "data": {
      "application/vnd.jupyter.widget-view+json": {
       "model_id": "0a78cc86c54d442eb7b99adf590aead6",
       "version_major": 2,
       "version_minor": 0
      },
      "text/plain": [
       "HBox(children=(IntProgress(value=0, max=1086390), HTML(value='')))"
      ]
     },
     "metadata": {
      "tags": []
     },
     "output_type": "display_data"
    },
    {
     "name": "stdout",
     "output_type": "stream",
     "text": [
      "\n"
     ]
    }
   ],
   "source": [
    "tagScore = {}\n",
    "for i in tqdm_notebook(range(len(tag_scores['Tag']))):\n",
    "    \n",
    "    for tag in tag_scores['Tag'][i].split(','):\n",
    "        try:\n",
    "            tagScore[tag].append(tag_scores['Score_x'][i])\n",
    "        except Exception:\n",
    "            tagScore[tag] = [tag_scores['Score_x'][i]]"
   ]
  },
  {
   "cell_type": "code",
   "execution_count": 0,
   "metadata": {
    "colab": {},
    "colab_type": "code",
    "id": "OCa8C2WJ_J2t"
   },
   "outputs": [],
   "source": [
    "## Determining the average score for each tag\n",
    "\n",
    "tagScoreAvg = {}\n",
    "for key in list(tagScore.keys()):\n",
    "    tagScoreAvg[key] = np.average(tagScore[key])"
   ]
  },
  {
   "cell_type": "code",
   "execution_count": 0,
   "metadata": {
    "colab": {},
    "colab_type": "code",
    "id": "izgk6MKV_J2u"
   },
   "outputs": [],
   "source": [
    "# Using pandas dataframe for sorting\n",
    "\n",
    "tagScoreAvg = pd.DataFrame([list(tagScoreAvg.keys()), list(tagScoreAvg.values())])\n",
    "tagScoreAvg = tagScoreAvg.transpose()\n",
    "tagScoreAvg.columns = ['Tag', 'Score_x']\n",
    "tagScoreAvg = tagScoreAvg.sort_values('Score_x')"
   ]
  },
  {
   "cell_type": "code",
   "execution_count": 0,
   "metadata": {
    "colab": {
     "base_uri": "https://localhost:8080/",
     "height": 282
    },
    "colab_type": "code",
    "id": "iC_CRbnC_J2w",
    "outputId": "3edc6138-0eea-46ba-b041-ed36b526fb20"
   },
   "outputs": [
    {
     "data": {
      "text/plain": [
       "<matplotlib.axes._subplots.AxesSubplot at 0x7f92a63696a0>"
      ]
     },
     "execution_count": 51,
     "metadata": {
      "tags": []
     },
     "output_type": "execute_result"
    },
    {
     "data": {
      "image/png": "[encoded data removed]",
      "text/plain": [
       "<Figure size 432x288 with 1 Axes>"
      ]
     },
     "metadata": {
      "tags": []
     },
     "output_type": "display_data"
    }
   ],
   "source": [
    "# Top 20 tags with highest average scores\n",
    "\n",
    "high_tag= tagScoreAvg.tail(20)\n",
    "high_tag.plot.barh(x='Tag', y='Score_x', rot=0)"
   ]
  },
  {
   "cell_type": "code",
   "execution_count": 0,
   "metadata": {
    "colab": {
     "base_uri": "https://localhost:8080/",
     "height": 282
    },
    "colab_type": "code",
    "id": "sQclKC3K_J2x",
    "outputId": "6dc66e82-6aad-4274-a914-7e493d6e2297"
   },
   "outputs": [
    {
     "data": {
      "text/plain": [
       "<matplotlib.axes._subplots.AxesSubplot at 0x7f92a638ca20>"
      ]
     },
     "execution_count": 52,
     "metadata": {
      "tags": []
     },
     "output_type": "execute_result"
    },
    {
     "data": {
      "image/png": "[encoded data removed]",
      "text/plain": [
       "<Figure size 432x288 with 1 Axes>"
      ]
     },
     "metadata": {
      "tags": []
     },
     "output_type": "display_data"
    }
   ],
   "source": [
    "# Top 20 tags with lowest average scores\n",
    "\n",
    "low_tag= tagScoreAvg.head(20)\n",
    "low_tag.plot.barh(x='Tag', y='Score_x', rot=0)"
   ]
  },
  {
   "cell_type": "code",
   "execution_count": 0,
   "metadata": {
    "colab": {},
    "colab_type": "code",
    "id": "bTIq5IoW_J2z"
   },
   "outputs": [],
   "source": [
    "import random\n",
    "\n",
    "random.seed(0)\n",
    "\n",
    "# We have selected 10 random tags amongst the top 50 most popular tags and appended it with few data science tags which we can\n",
    "# use for comparison later\n",
    "\n",
    "n = 10\n",
    "random_tags = []\n",
    "\n",
    "i = 0\n",
    "while i<n:\n",
    "    random_tag = tags['tag'][random.randint(0, 50)]\n",
    "    if random_tag not in data_science:\n",
    "        random_tags.append(random_tag)\n",
    "        i = i+1\n",
    "    \n",
    "top_scoring_tags = np.append(data_science, random_tags)"
   ]
  },
  {
   "cell_type": "code",
   "execution_count": 0,
   "metadata": {
    "colab": {
     "base_uri": "https://localhost:8080/",
     "height": 85
    },
    "colab_type": "code",
    "id": "eT564cNb_J20",
    "outputId": "793614ed-9825-43b9-c2f4-1e65254608dc"
   },
   "outputs": [
    {
     "data": {
      "text/plain": [
       "array(['python', 'r', 'matlab', 'sas', 'excel', 'sql', 'sql-server-2005',\n",
       "       'unit-testing', 'release-management', 'air', 'scripting',\n",
       "       'database', 'installation', 'deployment', 'version-control', 'oop'],\n",
       "      dtype='<U18')"
      ]
     },
     "execution_count": 54,
     "metadata": {
      "tags": []
     },
     "output_type": "execute_result"
    }
   ],
   "source": [
    "top_scoring_tags"
   ]
  },
  {
   "cell_type": "markdown",
   "metadata": {
    "colab_type": "text",
    "id": "ezV3zjzG_J22"
   },
   "source": [
    "#### Let us try to find those users who answer questions for any particular tag most frequently"
   ]
  },
  {
   "cell_type": "code",
   "execution_count": 0,
   "metadata": {
    "colab": {
     "base_uri": "https://localhost:8080/",
     "height": 204
    },
    "colab_type": "code",
    "id": "5TNNX4wX_J25",
    "outputId": "8f95be77-6e6b-4079-f731-a5c84ebadb73"
   },
   "outputs": [
    {
     "data": {
      "text/html": [
       "<div>\n",
       "<style scoped>\n",
       "    .dataframe tbody tr th:only-of-type {\n",
       "        vertical-align: middle;\n",
       "    }\n",
       "\n",
       "    .dataframe tbody tr th {\n",
       "        vertical-align: top;\n",
       "    }\n",
       "\n",
       "    .dataframe thead th {\n",
       "        text-align: right;\n",
       "    }\n",
       "</style>\n",
       "<table border=\"1\" class=\"dataframe\">\n",
       "  <thead>\n",
       "    <tr style=\"text-align: right;\">\n",
       "      <th></th>\n",
       "      <th>index</th>\n",
       "      <th>OwnerUserId_y</th>\n",
       "      <th>Tag</th>\n",
       "    </tr>\n",
       "  </thead>\n",
       "  <tbody>\n",
       "    <tr>\n",
       "      <th>0</th>\n",
       "      <td>0</td>\n",
       "      <td>1</td>\n",
       "      <td>c#,asp.net,regex,regex,regex,language-agnostic...</td>\n",
       "    </tr>\n",
       "    <tr>\n",
       "      <th>1</th>\n",
       "      <td>1</td>\n",
       "      <td>100</td>\n",
       "      <td>c#,.net,scripting,compiler-construction,.net-3...</td>\n",
       "    </tr>\n",
       "    <tr>\n",
       "      <th>2</th>\n",
       "      <td>2</td>\n",
       "      <td>1000</td>\n",
       "      <td>java,oop,design,architecture,c#,testing,java,n...</td>\n",
       "    </tr>\n",
       "    <tr>\n",
       "      <th>3</th>\n",
       "      <td>3</td>\n",
       "      <td>1000000</td>\n",
       "      <td>php,regex,cakephp</td>\n",
       "    </tr>\n",
       "    <tr>\n",
       "      <th>4</th>\n",
       "      <td>4</td>\n",
       "      <td>1000011</td>\n",
       "      <td>java,file,java,tomcat,spring-mvc,spring-securi...</td>\n",
       "    </tr>\n",
       "  </tbody>\n",
       "</table>\n",
       "</div>"
      ],
      "text/plain": [
       "   index OwnerUserId_y                                                Tag\n",
       "0      0             1  c#,asp.net,regex,regex,regex,language-agnostic...\n",
       "1      1           100  c#,.net,scripting,compiler-construction,.net-3...\n",
       "2      2          1000  java,oop,design,architecture,c#,testing,java,n...\n",
       "3      3       1000000                                  php,regex,cakephp\n",
       "4      4       1000011  java,file,java,tomcat,spring-mvc,spring-securi..."
      ]
     },
     "execution_count": 55,
     "metadata": {
      "tags": []
     },
     "output_type": "execute_result"
    }
   ],
   "source": [
    "dfQATU_owners_alltags = inp0.groupby(['OwnerUserId_y'])['Tag'].apply(','.join).reset_index()\n",
    "dfQATU_owners_alltags = dfQATU_owners_alltags.reset_index()\n",
    "dfQATU_owners_alltags.head()"
   ]
  },
  {
   "cell_type": "code",
   "execution_count": 0,
   "metadata": {
    "colab": {},
    "colab_type": "code",
    "id": "bSex9s0l_J27"
   },
   "outputs": [],
   "source": [
    "dfQATU_owners_tagcount = {}\n",
    "dfQATU_owners_tagcount = {tag_user : Counter(dfQATU_owners_alltags['Tag'][k].split(',')) for k, tag_user in enumerate(dfQATU_owners_alltags['OwnerUserId_y'])}"
   ]
  },
  {
   "cell_type": "code",
   "execution_count": 0,
   "metadata": {
    "colab": {
     "base_uri": "https://localhost:8080/",
     "height": 66,
     "referenced_widgets": [
      "d19bf205566a4ea1b0b210c8dd8cb4e2",
      "f3fdba038ef74fc0859fc2b53e58dfbd",
      "1e4a927468fc44939a427eb86beac044",
      "ab8dd1e48828456b943e4e652f72c9bc",
      "9176e5fa1fad4cf385b2f95f69ca5741",
      "e7f9b86640a84e199a4e5076fa4f25d4",
      "51f6a7a1194644dcbe23e23339bc80c2",
      "6d97ba970ef94d1eb672d28ca32dbedb"
     ]
    },
    "colab_type": "code",
    "id": "cPt0laRM_J2-",
    "outputId": "1c0ad3f1-b617-4946-a318-cd06fceb9c34"
   },
   "outputs": [
    {
     "data": {
      "application/vnd.jupyter.widget-view+json": {
       "model_id": "d19bf205566a4ea1b0b210c8dd8cb4e2",
       "version_major": 2,
       "version_minor": 0
      },
      "text/plain": [
       "HBox(children=(IntProgress(value=0, max=465531), HTML(value='')))"
      ]
     },
     "metadata": {
      "tags": []
     },
     "output_type": "display_data"
    },
    {
     "name": "stdout",
     "output_type": "stream",
     "text": [
      "\n"
     ]
    }
   ],
   "source": [
    "#tag_top_users = {tag:[] for tag in top_scoring_tags}\n",
    "tag_all_users = {tag:[] for tag in top_scoring_tags}\n",
    "\n",
    "for user in tqdm_notebook(dfQATU_owners_tagcount.keys()):\n",
    "    common_tags = dfQATU_owners_tagcount[user].keys() & top_scoring_tags\n",
    "    for tag in common_tags:\n",
    "        tag_all_users[tag].append(user)\n",
    "    "
   ]
  },
  {
   "cell_type": "markdown",
   "metadata": {
    "colab_type": "text",
    "id": "UKMbfCHq_J3B"
   },
   "source": [
    "#### Let's sort it and get the top 10 users who have answered the most questions for any particular tag "
   ]
  },
  {
   "cell_type": "code",
   "execution_count": 0,
   "metadata": {
    "colab": {},
    "colab_type": "code",
    "id": "W56wNSTo_J3C"
   },
   "outputs": [],
   "source": [
    "most_questions_answered_users_dict = {}\n",
    "\n",
    "for tag in top_scoring_tags:\n",
    "    \n",
    "    most_questions_answered_users = tag_all_users[tag]\n",
    "    most_questions_answered_count = []\n",
    "\n",
    "    for user in tag_all_users[tag]:\n",
    "        most_questions_answered_count.append(dfQATU_owners_tagcount[user][tag])\n",
    "\n",
    "    tag_all_users_df = {'Users': most_questions_answered_users, 'Answered': most_questions_answered_count}\n",
    "    tag_all_users_df = pd.DataFrame(tag_all_users_df)\n",
    "    tag_all_users_df = tag_all_users_df.sort_values('Answered', ascending = False)\n",
    "\n",
    "    most_questions_answered_users_dict[tag] = tag_all_users_df.head(10)"
   ]
  },
  {
   "cell_type": "code",
   "execution_count": 0,
   "metadata": {
    "colab": {
     "base_uri": "https://localhost:8080/",
     "height": 85
    },
    "colab_type": "code",
    "id": "-PtyIg1_R3bL",
    "outputId": "06c33fdf-9bb4-41f2-b437-84fc7875b868"
   },
   "outputs": [
    {
     "data": {
      "text/plain": [
       "array(['python', 'r', 'matlab', 'sas', 'excel', 'sql', 'sql-server-2005',\n",
       "       'unit-testing', 'release-management', 'air', 'scripting',\n",
       "       'database', 'installation', 'deployment', 'version-control', 'oop'],\n",
       "      dtype='<U18')"
      ]
     },
     "execution_count": 59,
     "metadata": {
      "tags": []
     },
     "output_type": "execute_result"
    }
   ],
   "source": [
    "top_scoring_tags"
   ]
  },
  {
   "cell_type": "code",
   "execution_count": 0,
   "metadata": {
    "colab": {
     "base_uri": "https://localhost:8080/",
     "height": 359
    },
    "colab_type": "code",
    "id": "XcTaZE46_J3E",
    "outputId": "ad4dcbd5-0455-4fbc-b80c-1d86fed75627"
   },
   "outputs": [
    {
     "data": {
      "text/html": [
       "<div>\n",
       "<style scoped>\n",
       "    .dataframe tbody tr th:only-of-type {\n",
       "        vertical-align: middle;\n",
       "    }\n",
       "\n",
       "    .dataframe tbody tr th {\n",
       "        vertical-align: top;\n",
       "    }\n",
       "\n",
       "    .dataframe thead th {\n",
       "        text-align: right;\n",
       "    }\n",
       "</style>\n",
       "<table border=\"1\" class=\"dataframe\">\n",
       "  <thead>\n",
       "    <tr style=\"text-align: right;\">\n",
       "      <th></th>\n",
       "      <th>Users</th>\n",
       "      <th>Answered</th>\n",
       "    </tr>\n",
       "  </thead>\n",
       "  <tbody>\n",
       "    <tr>\n",
       "      <th>1324</th>\n",
       "      <td>1144035</td>\n",
       "      <td>2310</td>\n",
       "    </tr>\n",
       "    <tr>\n",
       "      <th>19889</th>\n",
       "      <td>491243</td>\n",
       "      <td>356</td>\n",
       "    </tr>\n",
       "    <tr>\n",
       "      <th>26378</th>\n",
       "      <td>939860</td>\n",
       "      <td>265</td>\n",
       "    </tr>\n",
       "    <tr>\n",
       "      <th>20272</th>\n",
       "      <td>50552</td>\n",
       "      <td>264</td>\n",
       "    </tr>\n",
       "    <tr>\n",
       "      <th>3192</th>\n",
       "      <td>135152</td>\n",
       "      <td>255</td>\n",
       "    </tr>\n",
       "    <tr>\n",
       "      <th>14547</th>\n",
       "      <td>330315</td>\n",
       "      <td>232</td>\n",
       "    </tr>\n",
       "    <tr>\n",
       "      <th>3037</th>\n",
       "      <td>13302</td>\n",
       "      <td>223</td>\n",
       "    </tr>\n",
       "    <tr>\n",
       "      <th>24544</th>\n",
       "      <td>73226</td>\n",
       "      <td>215</td>\n",
       "    </tr>\n",
       "    <tr>\n",
       "      <th>12098</th>\n",
       "      <td>27535</td>\n",
       "      <td>210</td>\n",
       "    </tr>\n",
       "    <tr>\n",
       "      <th>17977</th>\n",
       "      <td>426671</td>\n",
       "      <td>204</td>\n",
       "    </tr>\n",
       "  </tbody>\n",
       "</table>\n",
       "</div>"
      ],
      "text/plain": [
       "         Users  Answered\n",
       "1324   1144035      2310\n",
       "19889   491243       356\n",
       "26378   939860       265\n",
       "20272    50552       264\n",
       "3192    135152       255\n",
       "14547   330315       232\n",
       "3037     13302       223\n",
       "24544    73226       215\n",
       "12098    27535       210\n",
       "17977   426671       204"
      ]
     },
     "execution_count": 60,
     "metadata": {
      "tags": []
     },
     "output_type": "execute_result"
    }
   ],
   "source": [
    "# So suppose you we want to find the top 10 users who have answered most questions in sql\n",
    "most_questions_answered_users_dict['sql']"
   ]
  },
  {
   "cell_type": "markdown",
   "metadata": {
    "colab_type": "text",
    "id": "OONVWnEq_J3O"
   },
   "source": [
    "#### Trend of some data science and non - data science tags"
   ]
  },
  {
   "cell_type": "code",
   "execution_count": 0,
   "metadata": {
    "colab": {},
    "colab_type": "code",
    "id": "W9XucOZj_J3O"
   },
   "outputs": [],
   "source": [
    "dfQATU_trend = inp0[['CreationDate_x', 'Tag']]\n",
    "\n",
    "dfQATU_trend = dfQATU_trend.sort_values(by='CreationDate_x')\n",
    "dfQATU_trend_day = dfQATU_trend.copy()"
   ]
  },
  {
   "cell_type": "code",
   "execution_count": 0,
   "metadata": {
    "colab": {},
    "colab_type": "code",
    "id": "3ZKzacfs_J3Q"
   },
   "outputs": [],
   "source": [
    "dfQATU_trend['CreationDate_x'] = dfQATU_trend['CreationDate_x'].dt.to_period('M') # Extracting only the month and year\n",
    "dfQATU_trend['CreationDate_x'] = dfQATU_trend['CreationDate_x'].astype(str)\n",
    "\n",
    "dateline = dfQATU_trend['CreationDate_x'].unique()"
   ]
  },
  {
   "cell_type": "code",
   "execution_count": 0,
   "metadata": {
    "colab": {
     "base_uri": "https://localhost:8080/",
     "height": 204
    },
    "colab_type": "code",
    "id": "XfaE65Zi_J3R",
    "outputId": "89a5ea69-1f7a-4d8a-cf9c-706bd6e22eb6"
   },
   "outputs": [
    {
     "data": {
      "text/html": [
       "<div>\n",
       "<style scoped>\n",
       "    .dataframe tbody tr th:only-of-type {\n",
       "        vertical-align: middle;\n",
       "    }\n",
       "\n",
       "    .dataframe tbody tr th {\n",
       "        vertical-align: top;\n",
       "    }\n",
       "\n",
       "    .dataframe thead th {\n",
       "        text-align: right;\n",
       "    }\n",
       "</style>\n",
       "<table border=\"1\" class=\"dataframe\">\n",
       "  <thead>\n",
       "    <tr style=\"text-align: right;\">\n",
       "      <th></th>\n",
       "      <th>CreationDate_x</th>\n",
       "      <th>Tag</th>\n",
       "    </tr>\n",
       "  </thead>\n",
       "  <tbody>\n",
       "    <tr>\n",
       "      <th>0</th>\n",
       "      <td>2008-08</td>\n",
       "      <td>flex,actionscript-3,air,c#,.net,scripting,comp...</td>\n",
       "    </tr>\n",
       "    <tr>\n",
       "      <th>1</th>\n",
       "      <td>2008-09</td>\n",
       "      <td>research,research,research,research,research,r...</td>\n",
       "    </tr>\n",
       "    <tr>\n",
       "      <th>2</th>\n",
       "      <td>2008-10</td>\n",
       "      <td>c#,search,file,design-patterns,powershell,netw...</td>\n",
       "    </tr>\n",
       "    <tr>\n",
       "      <th>3</th>\n",
       "      <td>2008-11</td>\n",
       "      <td>data-structures,directory,directory-structure,...</td>\n",
       "    </tr>\n",
       "    <tr>\n",
       "      <th>4</th>\n",
       "      <td>2008-12</td>\n",
       "      <td>xml,web-services,google-app-engine,soap,apache...</td>\n",
       "    </tr>\n",
       "  </tbody>\n",
       "</table>\n",
       "</div>"
      ],
      "text/plain": [
       "  CreationDate_x                                                Tag\n",
       "0        2008-08  flex,actionscript-3,air,c#,.net,scripting,comp...\n",
       "1        2008-09  research,research,research,research,research,r...\n",
       "2        2008-10  c#,search,file,design-patterns,powershell,netw...\n",
       "3        2008-11  data-structures,directory,directory-structure,...\n",
       "4        2008-12  xml,web-services,google-app-engine,soap,apache..."
      ]
     },
     "execution_count": 63,
     "metadata": {
      "tags": []
     },
     "output_type": "execute_result"
    }
   ],
   "source": [
    "dfQATU_trend = dfQATU_trend.groupby(['CreationDate_x'])['Tag'].apply(','.join).reset_index()\n",
    "dfQATU_trend.head()"
   ]
  },
  {
   "cell_type": "code",
   "execution_count": 0,
   "metadata": {
    "colab": {
     "base_uri": "https://localhost:8080/",
     "height": 85
    },
    "colab_type": "code",
    "id": "apJzrUJa_J3S",
    "outputId": "450eac9b-e5f8-49a7-cdfa-85c01ff255ff"
   },
   "outputs": [
    {
     "name": "stdout",
     "output_type": "stream",
     "text": [
      "Our time series analysis will be performed on the following tags:\n",
      "['python' 'r' 'matlab' 'sas' 'excel' 'sql' 'sql-server-2005'\n",
      " 'unit-testing' 'release-management' 'air' 'scripting' 'database'\n",
      " 'installation' 'deployment' 'version-control' 'oop']\n"
     ]
    }
   ],
   "source": [
    "print('Our time series analysis will be performed on the following tags:')\n",
    "print(top_scoring_tags)"
   ]
  },
  {
   "cell_type": "code",
   "execution_count": 0,
   "metadata": {
    "colab": {},
    "colab_type": "code",
    "id": "SqitNc2g_J3U"
   },
   "outputs": [],
   "source": [
    "top_scoring_tags_dict = {tag:[] for tag in top_scoring_tags}\n",
    "\n",
    "# Counting the number of times, a particular keyword was tagged per month\n",
    "\n",
    "for k, month in enumerate(dfQATU_trend['CreationDate_x']):\n",
    "    tag_counts = Counter(dfQATU_trend['Tag'][k].split(','))\n",
    "    for top_tag in top_scoring_tags:\n",
    "        try:\n",
    "            top_scoring_tags_dict[top_tag].append(tag_counts[top_tag])\n",
    "        except Exception:\n",
    "            top_scoring_tags_dict[top_tag].append(0)"
   ]
  },
  {
   "cell_type": "code",
   "execution_count": 0,
   "metadata": {
    "colab": {
     "base_uri": "https://localhost:8080/",
     "height": 762
    },
    "colab_type": "code",
    "id": "rmavnS7p_J3W",
    "outputId": "fde6ccc5-b48b-4496-8cb1-e864a69a9242"
   },
   "outputs": [
    {
     "data": {
      "image/png": "[encoded data removed]",
      "text/plain": [
       "<Figure size 1440x864 with 1 Axes>"
      ]
     },
     "metadata": {
      "tags": []
     },
     "output_type": "display_data"
    }
   ],
   "source": [
    "# Final Plotting\n",
    "\n",
    "plt.figure(figsize=(20,12)) \n",
    "for tag in top_scoring_tags_dict:\n",
    "    plt.plot(top_scoring_tags_dict[tag], label = tag)\n",
    "    \n",
    "plt.ylabel('Number of tags per month')\n",
    "plt.xlabel('Year - Month')\n",
    "plt.title('Trend of tag popularity over the years')\n",
    "plt.xticks(np.arange(len(dateline)), dateline, rotation=90)\n",
    "plt.legend(loc = 'best')\n",
    "plt.show()"
   ]
  },
  {
   "cell_type": "markdown",
   "metadata": {
    "colab_type": "text",
    "id": "rFq9Hbks_J3X"
   },
   "source": [
    "#### Let us do a similar plot for analysing only the yearly growth"
   ]
  },
  {
   "cell_type": "code",
   "execution_count": 0,
   "metadata": {
    "colab": {},
    "colab_type": "code",
    "id": "kQ08UWJo_J3Y"
   },
   "outputs": [],
   "source": [
    "dfQATU_trend['CreationDate_year'] = dfQATU_trend['CreationDate_x'].apply(lambda x: x.split(\"-\")[0]) # Extracting only the year\n",
    "yearline = dfQATU_trend['CreationDate_year'].unique()"
   ]
  },
  {
   "cell_type": "code",
   "execution_count": 0,
   "metadata": {
    "colab": {
     "base_uri": "https://localhost:8080/",
     "height": 204
    },
    "colab_type": "code",
    "id": "lxO0BSaR_J3b",
    "outputId": "6dcf103c-e0bb-45f4-f304-ceb289d1788c"
   },
   "outputs": [
    {
     "data": {
      "text/html": [
       "<div>\n",
       "<style scoped>\n",
       "    .dataframe tbody tr th:only-of-type {\n",
       "        vertical-align: middle;\n",
       "    }\n",
       "\n",
       "    .dataframe tbody tr th {\n",
       "        vertical-align: top;\n",
       "    }\n",
       "\n",
       "    .dataframe thead th {\n",
       "        text-align: right;\n",
       "    }\n",
       "</style>\n",
       "<table border=\"1\" class=\"dataframe\">\n",
       "  <thead>\n",
       "    <tr style=\"text-align: right;\">\n",
       "      <th></th>\n",
       "      <th>CreationDate_year</th>\n",
       "      <th>Tag</th>\n",
       "    </tr>\n",
       "  </thead>\n",
       "  <tbody>\n",
       "    <tr>\n",
       "      <th>0</th>\n",
       "      <td>2008</td>\n",
       "      <td>flex,actionscript-3,air,c#,.net,scripting,comp...</td>\n",
       "    </tr>\n",
       "    <tr>\n",
       "      <th>1</th>\n",
       "      <td>2009</td>\n",
       "      <td>python,data-structures,recursion,cyclic-refere...</td>\n",
       "    </tr>\n",
       "    <tr>\n",
       "      <th>2</th>\n",
       "      <td>2010</td>\n",
       "      <td>php,php,php,sql,c#,gdi+,php,mysql,store-data,p...</td>\n",
       "    </tr>\n",
       "    <tr>\n",
       "      <th>3</th>\n",
       "      <td>2011</td>\n",
       "      <td>iphone,cocoa,xcode,wcf,generated-code,service-...</td>\n",
       "    </tr>\n",
       "    <tr>\n",
       "      <th>4</th>\n",
       "      <td>2012</td>\n",
       "      <td>html,css,xcode,interface,uiimageview,builder,x...</td>\n",
       "    </tr>\n",
       "  </tbody>\n",
       "</table>\n",
       "</div>"
      ],
      "text/plain": [
       "  CreationDate_year                                                Tag\n",
       "0              2008  flex,actionscript-3,air,c#,.net,scripting,comp...\n",
       "1              2009  python,data-structures,recursion,cyclic-refere...\n",
       "2              2010  php,php,php,sql,c#,gdi+,php,mysql,store-data,p...\n",
       "3              2011  iphone,cocoa,xcode,wcf,generated-code,service-...\n",
       "4              2012  html,css,xcode,interface,uiimageview,builder,x..."
      ]
     },
     "execution_count": 68,
     "metadata": {
      "tags": []
     },
     "output_type": "execute_result"
    }
   ],
   "source": [
    "dfQATU_year_trend = dfQATU_trend.groupby(['CreationDate_year'])['Tag'].apply(','.join).reset_index()\n",
    "dfQATU_year_trend.head()"
   ]
  },
  {
   "cell_type": "code",
   "execution_count": 0,
   "metadata": {
    "colab": {},
    "colab_type": "code",
    "id": "wkQOFlGX_J3c"
   },
   "outputs": [],
   "source": [
    "top_scoring_tags_yearly = {tag:[] for tag in top_scoring_tags}\n",
    "\n",
    "# Counting the number of times, a particular keyword was tagged per year\n",
    "\n",
    "for k, year in enumerate(dfQATU_year_trend['CreationDate_year']):\n",
    "    tag_counts = Counter(dfQATU_year_trend['Tag'][k].split(','))\n",
    "    for top_tag in top_scoring_tags:\n",
    "        try:\n",
    "            top_scoring_tags_yearly[top_tag].append(tag_counts[top_tag])\n",
    "        except Exception:\n",
    "            top_scoring_tags_yearly[top_tag].append(0)"
   ]
  },
  {
   "cell_type": "code",
   "execution_count": 0,
   "metadata": {
    "colab": {
     "base_uri": "https://localhost:8080/",
     "height": 746
    },
    "colab_type": "code",
    "id": "fohPzIYT_J3d",
    "outputId": "6f1f15ed-0cbf-48db-9f00-c5db33dc5bef"
   },
   "outputs": [
    {
     "data": {
      "image/png": "[encoded data removed]",
      "text/plain": [
       "<Figure size 1440x864 with 1 Axes>"
      ]
     },
     "metadata": {
      "tags": []
     },
     "output_type": "display_data"
    }
   ],
   "source": [
    "# Final Plotting\n",
    "\n",
    "plt.figure(figsize=(20,12)) \n",
    "#for tag in top_scoring_tags_dict:\n",
    "for tag in top_scoring_tags_dict:\n",
    "    plt.plot(top_scoring_tags_yearly[tag], label = tag)\n",
    "    \n",
    "plt.ylabel('Popularity of the tag')\n",
    "plt.xlabel('Year')\n",
    "plt.title('Yearly growth of the popularity of each tag')\n",
    "plt.xticks(np.arange(len(yearline)), yearline, rotation=90)\n",
    "plt.legend(loc = 'best')\n",
    "plt.show()"
   ]
  },
  {
   "cell_type": "markdown",
   "metadata": {
    "colab_type": "text",
    "id": "OkHmNhb9_J3f"
   },
   "source": [
    "#### Analysing the Growth Rate of tags over the years"
   ]
  },
  {
   "cell_type": "code",
   "execution_count": 0,
   "metadata": {
    "colab": {},
    "colab_type": "code",
    "id": "UY6fBxmT_J3f"
   },
   "outputs": [],
   "source": [
    "top_scoring_tags_growth = {}\n",
    "for tag in top_scoring_tags_yearly.keys():\n",
    "    slope = []\n",
    "    for i in range(len(top_scoring_tags_yearly[tag])-1):\n",
    "        slope.append(top_scoring_tags_yearly[tag][i+1] - top_scoring_tags_yearly[tag][i])\n",
    "    top_scoring_tags_growth[tag] = slope"
   ]
  },
  {
   "cell_type": "code",
   "execution_count": 0,
   "metadata": {
    "colab": {
     "base_uri": "https://localhost:8080/",
     "height": 746
    },
    "colab_type": "code",
    "id": "C823Hgpy_J3h",
    "outputId": "e946b7f2-9d63-4ff7-e499-b8785b0a1263"
   },
   "outputs": [
    {
     "data": {
      "image/png": "[encoded data removed]",
      "text/plain": [
       "<Figure size 1440x864 with 1 Axes>"
      ]
     },
     "metadata": {
      "tags": []
     },
     "output_type": "display_data"
    }
   ],
   "source": [
    "# Final Plotting\n",
    "\n",
    "plt.figure(figsize=(20,12))\n",
    "for tag in top_scoring_tags_dict:\n",
    "    plt.plot(top_scoring_tags_growth[tag], label = tag)\n",
    "    \n",
    "plt.ylabel('Growth rate')\n",
    "plt.xlabel('Year')\n",
    "plt.title('Growth rate of tag popularity per year')\n",
    "plt.xticks(np.arange(len(yearline)-1), yearline[1:], rotation=90)\n",
    "plt.legend(loc = 'best')\n",
    "plt.show()"
   ]
  },
  {
   "cell_type": "markdown",
   "metadata": {
    "colab_type": "text",
    "id": "XsQONfAu_J3i"
   },
   "source": [
    "#### Comparing the popularity of tags for different months"
   ]
  },
  {
   "cell_type": "code",
   "execution_count": 0,
   "metadata": {
    "colab": {
     "base_uri": "https://localhost:8080/",
     "height": 421
    },
    "colab_type": "code",
    "id": "4wp0rrMt_J3i",
    "outputId": "c6f24427-1708-41fa-d76d-aadd29d5f215"
   },
   "outputs": [
    {
     "data": {
      "text/html": [
       "<div>\n",
       "<style scoped>\n",
       "    .dataframe tbody tr th:only-of-type {\n",
       "        vertical-align: middle;\n",
       "    }\n",
       "\n",
       "    .dataframe tbody tr th {\n",
       "        vertical-align: top;\n",
       "    }\n",
       "\n",
       "    .dataframe thead th {\n",
       "        text-align: right;\n",
       "    }\n",
       "</style>\n",
       "<table border=\"1\" class=\"dataframe\">\n",
       "  <thead>\n",
       "    <tr style=\"text-align: right;\">\n",
       "      <th></th>\n",
       "      <th>CreationDate_month</th>\n",
       "      <th>Tag</th>\n",
       "    </tr>\n",
       "  </thead>\n",
       "  <tbody>\n",
       "    <tr>\n",
       "      <th>0</th>\n",
       "      <td>01</td>\n",
       "      <td>python,data-structures,recursion,cyclic-refere...</td>\n",
       "    </tr>\n",
       "    <tr>\n",
       "      <th>1</th>\n",
       "      <td>02</td>\n",
       "      <td>visual-c++,c++-cli,clr,database,sql-server-200...</td>\n",
       "    </tr>\n",
       "    <tr>\n",
       "      <th>2</th>\n",
       "      <td>03</td>\n",
       "      <td>hardware,hardware,c++,hardware,hard-drive,delp...</td>\n",
       "    </tr>\n",
       "    <tr>\n",
       "      <th>3</th>\n",
       "      <td>04</td>\n",
       "      <td>sql,pivot,sql,pivot,iphone,uiimageview,iphone,...</td>\n",
       "    </tr>\n",
       "    <tr>\n",
       "      <th>4</th>\n",
       "      <td>05</td>\n",
       "      <td>c#,asp.net,vb.net,webforms,c#,asp.net,vb.net,w...</td>\n",
       "    </tr>\n",
       "    <tr>\n",
       "      <th>5</th>\n",
       "      <td>06</td>\n",
       "      <td>ruby-on-rails,validation,activerecord,nested,o...</td>\n",
       "    </tr>\n",
       "    <tr>\n",
       "      <th>6</th>\n",
       "      <td>07</td>\n",
       "      <td>html,css,user-interface,frontend,c++,windows,m...</td>\n",
       "    </tr>\n",
       "    <tr>\n",
       "      <th>7</th>\n",
       "      <td>08</td>\n",
       "      <td>flex,actionscript-3,air,c#,.net,scripting,comp...</td>\n",
       "    </tr>\n",
       "    <tr>\n",
       "      <th>8</th>\n",
       "      <td>09</td>\n",
       "      <td>research,research,research,research,research,r...</td>\n",
       "    </tr>\n",
       "    <tr>\n",
       "      <th>9</th>\n",
       "      <td>10</td>\n",
       "      <td>c#,search,file,design-patterns,powershell,netw...</td>\n",
       "    </tr>\n",
       "    <tr>\n",
       "      <th>10</th>\n",
       "      <td>11</td>\n",
       "      <td>data-structures,directory,directory-structure,...</td>\n",
       "    </tr>\n",
       "    <tr>\n",
       "      <th>11</th>\n",
       "      <td>12</td>\n",
       "      <td>xml,web-services,google-app-engine,soap,apache...</td>\n",
       "    </tr>\n",
       "  </tbody>\n",
       "</table>\n",
       "</div>"
      ],
      "text/plain": [
       "   CreationDate_month                                                Tag\n",
       "0                  01  python,data-structures,recursion,cyclic-refere...\n",
       "1                  02  visual-c++,c++-cli,clr,database,sql-server-200...\n",
       "2                  03  hardware,hardware,c++,hardware,hard-drive,delp...\n",
       "3                  04  sql,pivot,sql,pivot,iphone,uiimageview,iphone,...\n",
       "4                  05  c#,asp.net,vb.net,webforms,c#,asp.net,vb.net,w...\n",
       "5                  06  ruby-on-rails,validation,activerecord,nested,o...\n",
       "6                  07  html,css,user-interface,frontend,c++,windows,m...\n",
       "7                  08  flex,actionscript-3,air,c#,.net,scripting,comp...\n",
       "8                  09  research,research,research,research,research,r...\n",
       "9                  10  c#,search,file,design-patterns,powershell,netw...\n",
       "10                 11  data-structures,directory,directory-structure,...\n",
       "11                 12  xml,web-services,google-app-engine,soap,apache..."
      ]
     },
     "execution_count": 73,
     "metadata": {
      "tags": []
     },
     "output_type": "execute_result"
    }
   ],
   "source": [
    "dfQATU_trend['CreationDate_month'] = dfQATU_trend['CreationDate_x'].apply(lambda x: x.split(\"-\")[1]) # Extracting only the year\n",
    "monthline = ['January', 'February', 'March', 'April', 'May', 'June', 'July', 'August', 'September', 'October', 'November', 'December']\n",
    "\n",
    "dfQATU_month_trend = dfQATU_trend.groupby(['CreationDate_month'])['Tag'].apply(','.join).reset_index()\n",
    "dfQATU_month_trend"
   ]
  },
  {
   "cell_type": "code",
   "execution_count": 0,
   "metadata": {
    "colab": {},
    "colab_type": "code",
    "id": "F1sGFkiZ_J3o"
   },
   "outputs": [],
   "source": [
    "top_scoring_tags_months = {tag:[] for tag in top_scoring_tags}\n",
    "\n",
    "# Counting the number of times, a particular keyword was tagged per month\n",
    "\n",
    "for k, year in enumerate(dfQATU_month_trend['CreationDate_month']):\n",
    "    tag_counts = Counter(dfQATU_month_trend['Tag'][k].split(','))\n",
    "    for top_tag in top_scoring_tags:\n",
    "        try:\n",
    "            top_scoring_tags_months[top_tag].append(tag_counts[top_tag])\n",
    "        except Exception:\n",
    "            top_scoring_tags_months[top_tag].append(0)"
   ]
  },
  {
   "cell_type": "code",
   "execution_count": 0,
   "metadata": {
    "colab": {
     "base_uri": "https://localhost:8080/",
     "height": 503
    },
    "colab_type": "code",
    "id": "eNQoQc60_J3p",
    "outputId": "41c41b4e-f35d-48f7-b700-5fd8d84620c3"
   },
   "outputs": [
    {
     "data": {
      "image/png": "[encoded data removed]",
      "text/plain": [
       "<Figure size 864x504 with 1 Axes>"
      ]
     },
     "metadata": {
      "tags": []
     },
     "output_type": "display_data"
    }
   ],
   "source": [
    "# Final Plotting\n",
    "\n",
    "plt.figure(figsize=(12,7)) \n",
    "for tag in top_scoring_tags_months:\n",
    "    plt.plot(top_scoring_tags_months[tag], label = tag)\n",
    "    \n",
    "plt.ylabel('Popularity of the tag')\n",
    "plt.xlabel('Month')\n",
    "plt.title('Comparing the popularity of tags for each month')\n",
    "plt.xticks(np.arange(len(monthline)), monthline, rotation=90)\n",
    "plt.legend(loc = 'upper left')\n",
    "plt.show()"
   ]
  },
  {
   "cell_type": "code",
   "execution_count": 0,
   "metadata": {
    "colab": {},
    "colab_type": "code",
    "id": "p6GzsacD_J3r"
   },
   "outputs": [],
   "source": [
    "# Tags seem to be used slightly less frequently during the summer and winter holidays, don't you think?"
   ]
  },
  {
   "cell_type": "code",
   "execution_count": 0,
   "metadata": {
    "colab": {
     "base_uri": "https://localhost:8080/",
     "height": 170
    },
    "colab_type": "code",
    "id": "DvBCI7mH_J3s",
    "outputId": "848fde89-141d-4d3f-c8e7-e38312fa31af"
   },
   "outputs": [
    {
     "data": {
      "text/plain": [
       "CreationDate_x\n",
       "Monday       sql-server,windows-server-2008,sql-server,wind...\n",
       "Tuesday      powershell,cmdlets,powershell,cmdlets,powershe...\n",
       "Wednesday    math,math,math,math,math,math,math,sql-server,...\n",
       "Thursday     sql-server,sql-server,c#,.net,sharepoint,assem...\n",
       "Friday       flex,actionscript-3,air,c#,.net,scripting,comp...\n",
       "Saturday     sql-server,sql-server-2005,deployment,release-...\n",
       "Sunday       windows,visual-studio,registry,installation,wi...\n",
       "Name: Tag, dtype: object"
      ]
     },
     "execution_count": 77,
     "metadata": {
      "tags": []
     },
     "output_type": "execute_result"
    }
   ],
   "source": [
    "Days_of_Week = ['Monday', 'Tuesday', 'Wednesday', 'Thursday', 'Friday', 'Saturday', 'Sunday']\n",
    "dfQATU_trend_day['CreationDate_x'] = dfQATU_trend_day['CreationDate_x'].dt.day_name().astype(str)\n",
    "dfQATU_day_trend = dfQATU_trend_day.groupby('CreationDate_x')['Tag'].apply(','.join).reindex(Days_of_Week)\n",
    "dfQATU_day_trend"
   ]
  },
  {
   "cell_type": "code",
   "execution_count": 0,
   "metadata": {
    "colab": {},
    "colab_type": "code",
    "id": "99FPaidb_J3t"
   },
   "outputs": [],
   "source": [
    "top_scoring_tags_day = {tag:[] for tag in top_scoring_tags}\n",
    "\n",
    "# Counting the number of times, a particular keyword was tagged on a particular day of the week\n",
    "\n",
    "for k, day in enumerate(dfQATU_day_trend):\n",
    "    tag_counts = Counter(dfQATU_day_trend[k].split(','))\n",
    "    for top_tag in top_scoring_tags:\n",
    "        try:\n",
    "            top_scoring_tags_day[top_tag].append(tag_counts[top_tag])\n",
    "        except Exception:\n",
    "            top_scoring_tags_day[top_tag].append(0)"
   ]
  },
  {
   "cell_type": "code",
   "execution_count": 0,
   "metadata": {
    "colab": {
     "base_uri": "https://localhost:8080/",
     "height": 507
    },
    "colab_type": "code",
    "id": "3YddS9d1_J3w",
    "outputId": "baad8229-f2b1-4017-cf2c-36baf42fd6e8"
   },
   "outputs": [
    {
     "data": {
      "image/png": "[encoded data removed]",
      "text/plain": [
       "<Figure size 864x504 with 1 Axes>"
      ]
     },
     "metadata": {
      "tags": []
     },
     "output_type": "display_data"
    }
   ],
   "source": [
    "# Final Plotting\n",
    "\n",
    "plt.figure(figsize=(12,7)) \n",
    "for tag in top_scoring_tags_day:\n",
    "    plt.plot(top_scoring_tags_day[tag], label = tag)\n",
    "    \n",
    "plt.ylabel('Popularity of the tag')\n",
    "plt.xlabel('Day of the week')\n",
    "plt.title('Comparing the popularity of tags on different days of the week')\n",
    "plt.xticks(np.arange(len(Days_of_Week)), Days_of_Week, rotation=90)\n",
    "plt.legend(loc = 'best')\n",
    "plt.show()"
   ]
  },
  {
   "cell_type": "code",
   "execution_count": 0,
   "metadata": {
    "colab": {},
    "colab_type": "code",
    "id": "xiy0Ch8G_J3y"
   },
   "outputs": [],
   "source": [
    "# Looks like people like being more active  during the weekdays"
   ]
  }
 ],
 "metadata": {
  "colab": {
   "collapsed_sections": [],
   "machine_shape": "hm",
   "name": "EDA on StackOverflow dataset.ipynb",
   "provenance": []
  },
  "kernelspec": {
   "display_name": "Python 3",
   "language": "python",
   "name": "python3"
  },
  "language_info": {
   "codemirror_mode": {
    "name": "ipython",
    "version": 3
   },
   "file_extension": ".py",
   "mimetype": "text/x-python",
   "name": "python",
   "nbconvert_exporter": "python",
   "pygments_lexer": "ipython3",
   "version": "3.8.3"
  },
  "widgets": {
   "application/vnd.jupyter.widget-state+json": {
    "045d12747527414ebfe09b10fb527c59": {
     "model_module": "@jupyter-widgets/base",
     "model_name": "LayoutModel",
     "state": {
      "_model_module": "@jupyter-widgets/base",
      "_model_module_version": "1.2.0",
      "_model_name": "LayoutModel",
      "_view_count": null,
      "_view_module": "@jupyter-widgets/base",
      "_view_module_version": "1.2.0",
      "_view_name": "LayoutView",
      "align_content": null,
      "align_items": null,
      "align_self": null,
      "border": null,
      "bottom": null,
      "display": null,
      "flex": null,
      "flex_flow": null,
      "grid_area": null,
      "grid_auto_columns": null,
      "grid_auto_flow": null,
      "grid_auto_rows": null,
      "grid_column": null,
      "grid_gap": null,
      "grid_row": null,
      "grid_template_areas": null,
      "grid_template_columns": null,
      "grid_template_rows": null,
      "height": null,
      "justify_content": null,
      "justify_items": null,
      "left": null,
      "margin": null,
      "max_height": null,
      "max_width": null,
      "min_height": null,
      "min_width": null,
      "object_fit": null,
      "object_position": null,
      "order": null,
      "overflow": null,
      "overflow_x": null,
      "overflow_y": null,
      "padding": null,
      "right": null,
      "top": null,
      "visibility": null,
      "width": null
     }
    },
    "0a78cc86c54d442eb7b99adf590aead6": {
     "model_module": "@jupyter-widgets/controls",
     "model_name": "HBoxModel",
     "state": {
      "_dom_classes": [],
      "_model_module": "@jupyter-widgets/controls",
      "_model_module_version": "1.5.0",
      "_model_name": "HBoxModel",
      "_view_count": null,
      "_view_module": "@jupyter-widgets/controls",
      "_view_module_version": "1.5.0",
      "_view_name": "HBoxView",
      "box_style": "",
      "children": [
       "IPY_MODEL_1faa048551b74833a43159f3227927e7",
       "IPY_MODEL_ed889474c6664fa4acc403fc18a2186b"
      ],
      "layout": "IPY_MODEL_045d12747527414ebfe09b10fb527c59"
     }
    },
    "1e4a927468fc44939a427eb86beac044": {
     "model_module": "@jupyter-widgets/controls",
     "model_name": "IntProgressModel",
     "state": {
      "_dom_classes": [],
      "_model_module": "@jupyter-widgets/controls",
      "_model_module_version": "1.5.0",
      "_model_name": "IntProgressModel",
      "_view_count": null,
      "_view_module": "@jupyter-widgets/controls",
      "_view_module_version": "1.5.0",
      "_view_name": "ProgressView",
      "bar_style": "success",
      "description": "",
      "description_tooltip": null,
      "layout": "IPY_MODEL_e7f9b86640a84e199a4e5076fa4f25d4",
      "max": 465531,
      "min": 0,
      "orientation": "horizontal",
      "style": "IPY_MODEL_9176e5fa1fad4cf385b2f95f69ca5741",
      "value": 465531
     }
    },
    "1faa048551b74833a43159f3227927e7": {
     "model_module": "@jupyter-widgets/controls",
     "model_name": "IntProgressModel",
     "state": {
      "_dom_classes": [],
      "_model_module": "@jupyter-widgets/controls",
      "_model_module_version": "1.5.0",
      "_model_name": "IntProgressModel",
      "_view_count": null,
      "_view_module": "@jupyter-widgets/controls",
      "_view_module_version": "1.5.0",
      "_view_name": "ProgressView",
      "bar_style": "success",
      "description": "",
      "description_tooltip": null,
      "layout": "IPY_MODEL_a8351d5c64a4417ea6eb00f2dfe59155",
      "max": 1086390,
      "min": 0,
      "orientation": "horizontal",
      "style": "IPY_MODEL_e39e26ce418a4b1fa6ba63055647e40a",
      "value": 1086390
     }
    },
    "395a83a0ffa24e6bb1cb53ffee8900ff": {
     "model_module": "@jupyter-widgets/controls",
     "model_name": "IntProgressModel",
     "state": {
      "_dom_classes": [],
      "_model_module": "@jupyter-widgets/controls",
      "_model_module_version": "1.5.0",
      "_model_name": "IntProgressModel",
      "_view_count": null,
      "_view_module": "@jupyter-widgets/controls",
      "_view_module_version": "1.5.0",
      "_view_name": "ProgressView",
      "bar_style": "success",
      "description": "",
      "description_tooltip": null,
      "layout": "IPY_MODEL_ca1b3cdb69ab4b379a19304ba7a8861b",
      "max": 645282,
      "min": 0,
      "orientation": "horizontal",
      "style": "IPY_MODEL_fa41d86ff991449b9230644737a54680",
      "value": 645282
     }
    },
    "491c9ad147f94088827280998e3de74a": {
     "model_module": "@jupyter-widgets/controls",
     "model_name": "DescriptionStyleModel",
     "state": {
      "_model_module": "@jupyter-widgets/controls",
      "_model_module_version": "1.5.0",
      "_model_name": "DescriptionStyleModel",
      "_view_count": null,
      "_view_module": "@jupyter-widgets/base",
      "_view_module_version": "1.2.0",
      "_view_name": "StyleView",
      "description_width": ""
     }
    },
    "51f6a7a1194644dcbe23e23339bc80c2": {
     "model_module": "@jupyter-widgets/controls",
     "model_name": "DescriptionStyleModel",
     "state": {
      "_model_module": "@jupyter-widgets/controls",
      "_model_module_version": "1.5.0",
      "_model_name": "DescriptionStyleModel",
      "_view_count": null,
      "_view_module": "@jupyter-widgets/base",
      "_view_module_version": "1.2.0",
      "_view_name": "StyleView",
      "description_width": ""
     }
    },
    "62814be7aa324dd29fcd73ba486206f0": {
     "model_module": "@jupyter-widgets/base",
     "model_name": "LayoutModel",
     "state": {
      "_model_module": "@jupyter-widgets/base",
      "_model_module_version": "1.2.0",
      "_model_name": "LayoutModel",
      "_view_count": null,
      "_view_module": "@jupyter-widgets/base",
      "_view_module_version": "1.2.0",
      "_view_name": "LayoutView",
      "align_content": null,
      "align_items": null,
      "align_self": null,
      "border": null,
      "bottom": null,
      "display": null,
      "flex": null,
      "flex_flow": null,
      "grid_area": null,
      "grid_auto_columns": null,
      "grid_auto_flow": null,
      "grid_auto_rows": null,
      "grid_column": null,
      "grid_gap": null,
      "grid_row": null,
      "grid_template_areas": null,
      "grid_template_columns": null,
      "grid_template_rows": null,
      "height": null,
      "justify_content": null,
      "justify_items": null,
      "left": null,
      "margin": null,
      "max_height": null,
      "max_width": null,
      "min_height": null,
      "min_width": null,
      "object_fit": null,
      "object_position": null,
      "order": null,
      "overflow": null,
      "overflow_x": null,
      "overflow_y": null,
      "padding": null,
      "right": null,
      "top": null,
      "visibility": null,
      "width": null
     }
    },
    "675e0a0b6902478ca25c7b49e4a2450e": {
     "model_module": "@jupyter-widgets/controls",
     "model_name": "HBoxModel",
     "state": {
      "_dom_classes": [],
      "_model_module": "@jupyter-widgets/controls",
      "_model_module_version": "1.5.0",
      "_model_name": "HBoxModel",
      "_view_count": null,
      "_view_module": "@jupyter-widgets/controls",
      "_view_module_version": "1.5.0",
      "_view_name": "HBoxView",
      "box_style": "",
      "children": [
       "IPY_MODEL_395a83a0ffa24e6bb1cb53ffee8900ff",
       "IPY_MODEL_d051c12f48be4dab9511b6c93a562bf7"
      ],
      "layout": "IPY_MODEL_af297e67759d47439bee2f8f42299f8d"
     }
    },
    "6d97ba970ef94d1eb672d28ca32dbedb": {
     "model_module": "@jupyter-widgets/base",
     "model_name": "LayoutModel",
     "state": {
      "_model_module": "@jupyter-widgets/base",
      "_model_module_version": "1.2.0",
      "_model_name": "LayoutModel",
      "_view_count": null,
      "_view_module": "@jupyter-widgets/base",
      "_view_module_version": "1.2.0",
      "_view_name": "LayoutView",
      "align_content": null,
      "align_items": null,
      "align_self": null,
      "border": null,
      "bottom": null,
      "display": null,
      "flex": null,
      "flex_flow": null,
      "grid_area": null,
      "grid_auto_columns": null,
      "grid_auto_flow": null,
      "grid_auto_rows": null,
      "grid_column": null,
      "grid_gap": null,
      "grid_row": null,
      "grid_template_areas": null,
      "grid_template_columns": null,
      "grid_template_rows": null,
      "height": null,
      "justify_content": null,
      "justify_items": null,
      "left": null,
      "margin": null,
      "max_height": null,
      "max_width": null,
      "min_height": null,
      "min_width": null,
      "object_fit": null,
      "object_position": null,
      "order": null,
      "overflow": null,
      "overflow_x": null,
      "overflow_y": null,
      "padding": null,
      "right": null,
      "top": null,
      "visibility": null,
      "width": null
     }
    },
    "7d2a316af8554d36a9ab5cca57e331a5": {
     "model_module": "@jupyter-widgets/base",
     "model_name": "LayoutModel",
     "state": {
      "_model_module": "@jupyter-widgets/base",
      "_model_module_version": "1.2.0",
      "_model_name": "LayoutModel",
      "_view_count": null,
      "_view_module": "@jupyter-widgets/base",
      "_view_module_version": "1.2.0",
      "_view_name": "LayoutView",
      "align_content": null,
      "align_items": null,
      "align_self": null,
      "border": null,
      "bottom": null,
      "display": null,
      "flex": null,
      "flex_flow": null,
      "grid_area": null,
      "grid_auto_columns": null,
      "grid_auto_flow": null,
      "grid_auto_rows": null,
      "grid_column": null,
      "grid_gap": null,
      "grid_row": null,
      "grid_template_areas": null,
      "grid_template_columns": null,
      "grid_template_rows": null,
      "height": null,
      "justify_content": null,
      "justify_items": null,
      "left": null,
      "margin": null,
      "max_height": null,
      "max_width": null,
      "min_height": null,
      "min_width": null,
      "object_fit": null,
      "object_position": null,
      "order": null,
      "overflow": null,
      "overflow_x": null,
      "overflow_y": null,
      "padding": null,
      "right": null,
      "top": null,
      "visibility": null,
      "width": null
     }
    },
    "8dac5f1adddd4f718dfaac4052cb52a2": {
     "model_module": "@jupyter-widgets/controls",
     "model_name": "DescriptionStyleModel",
     "state": {
      "_model_module": "@jupyter-widgets/controls",
      "_model_module_version": "1.5.0",
      "_model_name": "DescriptionStyleModel",
      "_view_count": null,
      "_view_module": "@jupyter-widgets/base",
      "_view_module_version": "1.2.0",
      "_view_name": "StyleView",
      "description_width": ""
     }
    },
    "9176e5fa1fad4cf385b2f95f69ca5741": {
     "model_module": "@jupyter-widgets/controls",
     "model_name": "ProgressStyleModel",
     "state": {
      "_model_module": "@jupyter-widgets/controls",
      "_model_module_version": "1.5.0",
      "_model_name": "ProgressStyleModel",
      "_view_count": null,
      "_view_module": "@jupyter-widgets/base",
      "_view_module_version": "1.2.0",
      "_view_name": "StyleView",
      "bar_color": null,
      "description_width": ""
     }
    },
    "a8351d5c64a4417ea6eb00f2dfe59155": {
     "model_module": "@jupyter-widgets/base",
     "model_name": "LayoutModel",
     "state": {
      "_model_module": "@jupyter-widgets/base",
      "_model_module_version": "1.2.0",
      "_model_name": "LayoutModel",
      "_view_count": null,
      "_view_module": "@jupyter-widgets/base",
      "_view_module_version": "1.2.0",
      "_view_name": "LayoutView",
      "align_content": null,
      "align_items": null,
      "align_self": null,
      "border": null,
      "bottom": null,
      "display": null,
      "flex": null,
      "flex_flow": null,
      "grid_area": null,
      "grid_auto_columns": null,
      "grid_auto_flow": null,
      "grid_auto_rows": null,
      "grid_column": null,
      "grid_gap": null,
      "grid_row": null,
      "grid_template_areas": null,
      "grid_template_columns": null,
      "grid_template_rows": null,
      "height": null,
      "justify_content": null,
      "justify_items": null,
      "left": null,
      "margin": null,
      "max_height": null,
      "max_width": null,
      "min_height": null,
      "min_width": null,
      "object_fit": null,
      "object_position": null,
      "order": null,
      "overflow": null,
      "overflow_x": null,
      "overflow_y": null,
      "padding": null,
      "right": null,
      "top": null,
      "visibility": null,
      "width": null
     }
    },
    "ab8dd1e48828456b943e4e652f72c9bc": {
     "model_module": "@jupyter-widgets/controls",
     "model_name": "HTMLModel",
     "state": {
      "_dom_classes": [],
      "_model_module": "@jupyter-widgets/controls",
      "_model_module_version": "1.5.0",
      "_model_name": "HTMLModel",
      "_view_count": null,
      "_view_module": "@jupyter-widgets/controls",
      "_view_module_version": "1.5.0",
      "_view_name": "HTMLView",
      "description": "",
      "description_tooltip": null,
      "layout": "IPY_MODEL_6d97ba970ef94d1eb672d28ca32dbedb",
      "placeholder": "​",
      "style": "IPY_MODEL_51f6a7a1194644dcbe23e23339bc80c2",
      "value": "100% 465531/465531 [00:03&lt;00:00, 122165.70it/s]"
     }
    },
    "af297e67759d47439bee2f8f42299f8d": {
     "model_module": "@jupyter-widgets/base",
     "model_name": "LayoutModel",
     "state": {
      "_model_module": "@jupyter-widgets/base",
      "_model_module_version": "1.2.0",
      "_model_name": "LayoutModel",
      "_view_count": null,
      "_view_module": "@jupyter-widgets/base",
      "_view_module_version": "1.2.0",
      "_view_name": "LayoutView",
      "align_content": null,
      "align_items": null,
      "align_self": null,
      "border": null,
      "bottom": null,
      "display": null,
      "flex": null,
      "flex_flow": null,
      "grid_area": null,
      "grid_auto_columns": null,
      "grid_auto_flow": null,
      "grid_auto_rows": null,
      "grid_column": null,
      "grid_gap": null,
      "grid_row": null,
      "grid_template_areas": null,
      "grid_template_columns": null,
      "grid_template_rows": null,
      "height": null,
      "justify_content": null,
      "justify_items": null,
      "left": null,
      "margin": null,
      "max_height": null,
      "max_width": null,
      "min_height": null,
      "min_width": null,
      "object_fit": null,
      "object_position": null,
      "order": null,
      "overflow": null,
      "overflow_x": null,
      "overflow_y": null,
      "padding": null,
      "right": null,
      "top": null,
      "visibility": null,
      "width": null
     }
    },
    "ca1b3cdb69ab4b379a19304ba7a8861b": {
     "model_module": "@jupyter-widgets/base",
     "model_name": "LayoutModel",
     "state": {
      "_model_module": "@jupyter-widgets/base",
      "_model_module_version": "1.2.0",
      "_model_name": "LayoutModel",
      "_view_count": null,
      "_view_module": "@jupyter-widgets/base",
      "_view_module_version": "1.2.0",
      "_view_name": "LayoutView",
      "align_content": null,
      "align_items": null,
      "align_self": null,
      "border": null,
      "bottom": null,
      "display": null,
      "flex": null,
      "flex_flow": null,
      "grid_area": null,
      "grid_auto_columns": null,
      "grid_auto_flow": null,
      "grid_auto_rows": null,
      "grid_column": null,
      "grid_gap": null,
      "grid_row": null,
      "grid_template_areas": null,
      "grid_template_columns": null,
      "grid_template_rows": null,
      "height": null,
      "justify_content": null,
      "justify_items": null,
      "left": null,
      "margin": null,
      "max_height": null,
      "max_width": null,
      "min_height": null,
      "min_width": null,
      "object_fit": null,
      "object_position": null,
      "order": null,
      "overflow": null,
      "overflow_x": null,
      "overflow_y": null,
      "padding": null,
      "right": null,
      "top": null,
      "visibility": null,
      "width": null
     }
    },
    "d051c12f48be4dab9511b6c93a562bf7": {
     "model_module": "@jupyter-widgets/controls",
     "model_name": "HTMLModel",
     "state": {
      "_dom_classes": [],
      "_model_module": "@jupyter-widgets/controls",
      "_model_module_version": "1.5.0",
      "_model_name": "HTMLModel",
      "_view_count": null,
      "_view_module": "@jupyter-widgets/controls",
      "_view_module_version": "1.5.0",
      "_view_name": "HTMLView",
      "description": "",
      "description_tooltip": null,
      "layout": "IPY_MODEL_62814be7aa324dd29fcd73ba486206f0",
      "placeholder": "​",
      "style": "IPY_MODEL_8dac5f1adddd4f718dfaac4052cb52a2",
      "value": "100% 645282/645282 [00:35&lt;00:00, 18109.20it/s]"
     }
    },
    "d19bf205566a4ea1b0b210c8dd8cb4e2": {
     "model_module": "@jupyter-widgets/controls",
     "model_name": "HBoxModel",
     "state": {
      "_dom_classes": [],
      "_model_module": "@jupyter-widgets/controls",
      "_model_module_version": "1.5.0",
      "_model_name": "HBoxModel",
      "_view_count": null,
      "_view_module": "@jupyter-widgets/controls",
      "_view_module_version": "1.5.0",
      "_view_name": "HBoxView",
      "box_style": "",
      "children": [
       "IPY_MODEL_1e4a927468fc44939a427eb86beac044",
       "IPY_MODEL_ab8dd1e48828456b943e4e652f72c9bc"
      ],
      "layout": "IPY_MODEL_f3fdba038ef74fc0859fc2b53e58dfbd"
     }
    },
    "e39e26ce418a4b1fa6ba63055647e40a": {
     "model_module": "@jupyter-widgets/controls",
     "model_name": "ProgressStyleModel",
     "state": {
      "_model_module": "@jupyter-widgets/controls",
      "_model_module_version": "1.5.0",
      "_model_name": "ProgressStyleModel",
      "_view_count": null,
      "_view_module": "@jupyter-widgets/base",
      "_view_module_version": "1.2.0",
      "_view_name": "StyleView",
      "bar_color": null,
      "description_width": ""
     }
    },
    "e7f9b86640a84e199a4e5076fa4f25d4": {
     "model_module": "@jupyter-widgets/base",
     "model_name": "LayoutModel",
     "state": {
      "_model_module": "@jupyter-widgets/base",
      "_model_module_version": "1.2.0",
      "_model_name": "LayoutModel",
      "_view_count": null,
      "_view_module": "@jupyter-widgets/base",
      "_view_module_version": "1.2.0",
      "_view_name": "LayoutView",
      "align_content": null,
      "align_items": null,
      "align_self": null,
      "border": null,
      "bottom": null,
      "display": null,
      "flex": null,
      "flex_flow": null,
      "grid_area": null,
      "grid_auto_columns": null,
      "grid_auto_flow": null,
      "grid_auto_rows": null,
      "grid_column": null,
      "grid_gap": null,
      "grid_row": null,
      "grid_template_areas": null,
      "grid_template_columns": null,
      "grid_template_rows": null,
      "height": null,
      "justify_content": null,
      "justify_items": null,
      "left": null,
      "margin": null,
      "max_height": null,
      "max_width": null,
      "min_height": null,
      "min_width": null,
      "object_fit": null,
      "object_position": null,
      "order": null,
      "overflow": null,
      "overflow_x": null,
      "overflow_y": null,
      "padding": null,
      "right": null,
      "top": null,
      "visibility": null,
      "width": null
     }
    },
    "ed889474c6664fa4acc403fc18a2186b": {
     "model_module": "@jupyter-widgets/controls",
     "model_name": "HTMLModel",
     "state": {
      "_dom_classes": [],
      "_model_module": "@jupyter-widgets/controls",
      "_model_module_version": "1.5.0",
      "_model_name": "HTMLModel",
      "_view_count": null,
      "_view_module": "@jupyter-widgets/controls",
      "_view_module_version": "1.5.0",
      "_view_name": "HTMLView",
      "description": "",
      "description_tooltip": null,
      "layout": "IPY_MODEL_7d2a316af8554d36a9ab5cca57e331a5",
      "placeholder": "​",
      "style": "IPY_MODEL_491c9ad147f94088827280998e3de74a",
      "value": "100% 1086390/1086390 [01:38&lt;00:00, 11004.30it/s]"
     }
    },
    "f3fdba038ef74fc0859fc2b53e58dfbd": {
     "model_module": "@jupyter-widgets/base",
     "model_name": "LayoutModel",
     "state": {
      "_model_module": "@jupyter-widgets/base",
      "_model_module_version": "1.2.0",
      "_model_name": "LayoutModel",
      "_view_count": null,
      "_view_module": "@jupyter-widgets/base",
      "_view_module_version": "1.2.0",
      "_view_name": "LayoutView",
      "align_content": null,
      "align_items": null,
      "align_self": null,
      "border": null,
      "bottom": null,
      "display": null,
      "flex": null,
      "flex_flow": null,
      "grid_area": null,
      "grid_auto_columns": null,
      "grid_auto_flow": null,
      "grid_auto_rows": null,
      "grid_column": null,
      "grid_gap": null,
      "grid_row": null,
      "grid_template_areas": null,
      "grid_template_columns": null,
      "grid_template_rows": null,
      "height": null,
      "justify_content": null,
      "justify_items": null,
      "left": null,
      "margin": null,
      "max_height": null,
      "max_width": null,
      "min_height": null,
      "min_width": null,
      "object_fit": null,
      "object_position": null,
      "order": null,
      "overflow": null,
      "overflow_x": null,
      "overflow_y": null,
      "padding": null,
      "right": null,
      "top": null,
      "visibility": null,
      "width": null
     }
    },
    "fa41d86ff991449b9230644737a54680": {
     "model_module": "@jupyter-widgets/controls",
     "model_name": "ProgressStyleModel",
     "state": {
      "_model_module": "@jupyter-widgets/controls",
      "_model_module_version": "1.5.0",
      "_model_name": "ProgressStyleModel",
      "_view_count": null,
      "_view_module": "@jupyter-widgets/base",
      "_view_module_version": "1.2.0",
      "_view_name": "StyleView",
      "bar_color": null,
      "description_width": ""
     }
    }
   }
  }
 },
 "nbformat": 4,
 "nbformat_minor": 1
}
